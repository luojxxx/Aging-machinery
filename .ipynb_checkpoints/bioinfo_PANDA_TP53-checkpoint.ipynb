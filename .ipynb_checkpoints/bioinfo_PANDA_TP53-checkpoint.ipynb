{
 "cells": [
  {
   "cell_type": "code",
   "execution_count": 1,
   "id": "784957f1-aae0-471b-9517-a081e6163aa1",
   "metadata": {},
   "outputs": [],
   "source": [
    "# loading libraries\n",
    "import pandas as pd\n",
    "import networkx as nx\n",
    "import os\n",
    "from tqdm import tqdm\n",
    "import statistics\n",
    "import seaborn as sns\n",
    "import matplotlib.pyplot as plt\n"
   ]
  },
  {
   "cell_type": "code",
   "execution_count": 2,
   "id": "0acfa00a-87e5-45a1-a462-20c4ce6a9e7d",
   "metadata": {},
   "outputs": [],
   "source": [
    "# loading and cleaning ENSG converter\n",
    "test = []\n",
    "geneId_geneName = {}\n",
    "with open('Homo_sapiens.GRCh37.74.gtf', 'r') as file:\n",
    "    for line in file:\n",
    "        line = line.strip()\n",
    "        data = line.split('\\t')[-1]\n",
    "        test.append(data)\n",
    "        if 'gene_name' in data:\n",
    "            attributes = data.split(';')\n",
    "            geneId = attributes[0].split(' ')[1].strip('\"')\n",
    "            for attr in attributes:\n",
    "                if 'gene_name' in attr:\n",
    "                    geneName = attr.split(' ')[2].strip('\"')\n",
    "                    if geneId not in geneId_geneName:\n",
    "                        geneId_geneName[geneId] = geneName\n",
    "geneName_geneId = {v: k for k, v in geneId_geneName.items()}"
   ]
  },
  {
   "cell_type": "code",
   "execution_count": 3,
   "id": "274748f2-3e90-4e02-a674-71b46a8d7eea",
   "metadata": {},
   "outputs": [],
   "source": [
    "def createRegulatory(regulatory_filepath):\n",
    "    # loading, cleaning, and permutating regulatory dataset\n",
    "    print(f'Loading: {regulatory_filepath}')\n",
    "    regulatory = pd.read_csv(regulatory_filepath, index_col=0)\n",
    "    \n",
    "    exceptions = []\n",
    "    for name in regulatory.index:\n",
    "        try:\n",
    "            regulatory = regulatory.rename(index={name: geneName_geneId[name]})\n",
    "        except:\n",
    "            exceptions.append(name)\n",
    "    \n",
    "    print(f'Row exception count: {len(exceptions)}')\n",
    "    \n",
    "    for exc in exceptions:\n",
    "        regulatory = regulatory.drop(exc)\n",
    "\n",
    "    # if columns are ENSG IDs, uncomment this part\n",
    "    exceptions = []\n",
    "    for ID in regulatory.columns.tolist():\n",
    "        if ID not in geneId_geneName:\n",
    "            exceptions.append(ID)\n",
    "\n",
    "    # if columns are gene names, uncomment this part\n",
    "    # exceptions = []\n",
    "    # for name in regulatory.columns.tolist():\n",
    "    #     try:\n",
    "    #         regulatory = regulatory.rename(columns={name: geneName_geneId[name]})\n",
    "    #     except:\n",
    "    #         exceptions.append(name)\n",
    "\n",
    "    \n",
    "    print(f'Column exception count: {len(exceptions)}')\n",
    "\n",
    "    for exc in exceptions:\n",
    "        regulatory = regulatory.drop(exc)\n",
    "\n",
    "    \n",
    "    def inverse(x):\n",
    "        return 1/x\n",
    "    \n",
    "    def absolute(x):\n",
    "        return abs(x)\n",
    "    \n",
    "    regulatory = regulatory.map(inverse)\n",
    "    regulatory = regulatory.map(absolute)\n",
    "\n",
    "    return regulatory\n",
    "\n",
    "def createEndpoints(filepath):\n",
    "    # loading and cleaning dataset\n",
    "    endpoints = pd.read_csv(filepath, sep='\\t', index_col=0)\n",
    "    \n",
    "    exceptions = []\n",
    "    for name in endpoints.index:\n",
    "        try:\n",
    "            endpoints = endpoints.rename(index={name: geneName_geneId[name.upper()]})\n",
    "        except:\n",
    "            exceptions.append(name)\n",
    "    \n",
    "    print(f'Endpoints exception count: {len(exceptions)}')\n",
    "    \n",
    "    for exc in exceptions:\n",
    "        endpoints = endpoints.drop(exc)\n",
    "\n",
    "    return list(endpoints.index)\n",
    "\n",
    "def createRandomEndpoints(regulatory, num, seed):\n",
    "    rand = regulatory.sample(n=num, random_state=seed)\n",
    "    return list(rand.index)\n",
    "\n",
    "def createGraph(regulatory, endpoints):\n",
    "    # creating network\n",
    "    regMatrix = regulatory.to_numpy().tolist()\n",
    "    \n",
    "    G = nx.Graph()\n",
    "    nodes = list(set(list(regulatory.index) + regulatory.columns.tolist() + endpoints))\n",
    "    G.add_nodes_from(nodes)\n",
    "    edgeCount = 0\n",
    "    for rowName, row in zip(regulatory.index, regMatrix):\n",
    "        for columnName, cell in zip(regulatory.columns.tolist(), row):\n",
    "            # if cell < 10:\n",
    "            G.add_edge(rowName, columnName, weight=cell)\n",
    "            edgeCount += 1\n",
    "    \n",
    "    print(f'EdgeCount: {edgeCount}')\n",
    "\n",
    "    return G\n",
    "\n",
    "def connectionEnrichment(origins, endpoints):\n",
    "    datasets = os.listdir('data')\n",
    "    datasets.remove('.DS_Store')\n",
    "    count = {}\n",
    "    for i, dataset in enumerate(datasets):\n",
    "        print(i)\n",
    "        regulatory = createRegulatory(f'data/{dataset}')\n",
    "        G = createGraph(regulatory, endpoints)\n",
    "        for origin in origins:\n",
    "            for i, endpoint in enumerate(tqdm(endpoints)):\n",
    "                try:\n",
    "                    path = nx.shortest_path(G, origin, endpoint, weight=\"weight\")\n",
    "                    path.pop(0)\n",
    "                    path.pop()\n",
    "                    for node in path:\n",
    "                        if node not in count:\n",
    "                            count[node] = 1\n",
    "                        else:\n",
    "                            count[node] += 1\n",
    "                except:\n",
    "                    pass\n",
    "    return count\n",
    "\n",
    "def sortDic(dic):\n",
    "    return dict(reversed(sorted(dic.items(), key=lambda item: item[1])))\n",
    "\n",
    "def printResultsWithStats(dic):\n",
    "    print(f'Size: {len(dic)}')\n",
    "    print(f'Average: {statistics.mean(dic.values())}')\n",
    "    print(f'Median: {statistics.median(dic.values())}')\n",
    "    print(dic)"
   ]
  },
  {
   "cell_type": "code",
   "execution_count": 4,
   "id": "bbe62678-d06a-4709-87ca-d56af241e3f6",
   "metadata": {},
   "outputs": [],
   "source": [
    "# defining origins\n",
    "TP53 = ['ENSG00000141510']"
   ]
  },
  {
   "cell_type": "code",
   "execution_count": 5,
   "id": "9aeb5d9d-dc84-4110-9b6e-42c6bc3ec9fe",
   "metadata": {
    "scrolled": true
   },
   "outputs": [
    {
     "name": "stdout",
     "output_type": "stream",
     "text": [
      "Endpoints exception count: 15\n",
      "0\n",
      "Loading: data/fibroblastCellLine.csv\n",
      "Row exception count: 0\n",
      "Column exception count: 0\n",
      "EdgeCount: 19476492\n"
     ]
    },
    {
     "name": "stderr",
     "output_type": "stream",
     "text": [
      "100%|█████████████████████████████████████████████████████████████████████████████████████████████████████████████████████████████████████████| 310/310 [03:27<00:00,  1.49it/s]\n"
     ]
    }
   ],
   "source": [
    "# multi-dataset aging gene enrichment\n",
    "globalAgingGenes = createEndpoints('global_aging_genes.tsv')\n",
    "agingCount = connectionEnrichment(TP53, globalAgingGenes)"
   ]
  },
  {
   "cell_type": "code",
   "execution_count": 6,
   "id": "f30ad9c9-9e0a-4338-a5fe-a54d8edf4114",
   "metadata": {
    "scrolled": true
   },
   "outputs": [
    {
     "name": "stdout",
     "output_type": "stream",
     "text": [
      "Size: 200\n",
      "Average: 2.1\n",
      "Median: 1.0\n",
      "{'ENSG00000169840': 15, 'ENSG00000139651': 12, 'ENSG00000189298': 10, 'ENSG00000118707': 10, 'ENSG00000175325': 9, 'ENSG00000147421': 9, 'ENSG00000008441': 9, 'ENSG00000187553': 8, 'ENSG00000171223': 7, 'ENSG00000172818': 7, 'ENSG00000124782': 7, 'ENSG00000137203': 7, 'ENSG00000114861': 6, 'ENSG00000106031': 6, 'ENSG00000153923': 6, 'ENSG00000156502': 5, 'ENSG00000228862': 5, 'ENSG00000230971': 5, 'ENSG00000215397': 5, 'ENSG00000185697': 5, 'ENSG00000249317': 4, 'ENSG00000162924': 4, 'ENSG00000205133': 4, 'ENSG00000178338': 4, 'ENSG00000267344': 4, 'ENSG00000162599': 3, 'ENSG00000082641': 3, 'ENSG00000178951': 3, 'ENSG00000187054': 3, 'ENSG00000232517': 3, 'ENSG00000196482': 3, 'ENSG00000006468': 3, 'ENSG00000101076': 3, 'ENSG00000226017': 3, 'ENSG00000137265': 3, 'ENSG00000267325': 3, 'ENSG00000131668': 3, 'ENSG00000269603': 3, 'ENSG00000228318': 3, 'ENSG00000152977': 3, 'ENSG00000214026': 3, 'ENSG00000103148': 3, 'ENSG00000106689': 3, 'ENSG00000167895': 3, 'ENSG00000235174': 2, 'ENSG00000110851': 2, 'ENSG00000228153': 2, 'ENSG00000106038': 2, 'ENSG00000134954': 2, 'ENSG00000138031': 2, 'ENSG00000247934': 2, 'ENSG00000100105': 2, 'ENSG00000123240': 2, 'ENSG00000126746': 2, 'ENSG00000100968': 2, 'ENSG00000138617': 2, 'ENSG00000141026': 2, 'ENSG00000138071': 2, 'ENSG00000143867': 2, 'ENSG00000232451': 2, 'ENSG00000111424': 2, 'ENSG00000197579': 2, 'ENSG00000187097': 2, 'ENSG00000163064': 2, 'ENSG00000083097': 2, 'ENSG00000160961': 2, 'ENSG00000163497': 2, 'ENSG00000233369': 2, 'ENSG00000131931': 2, 'ENSG00000174628': 2, 'ENSG00000129152': 2, 'ENSG00000084463': 2, 'ENSG00000163795': 2, 'ENSG00000111911': 2, 'ENSG00000179388': 2, 'ENSG00000114315': 2, 'ENSG00000170561': 2, 'ENSG00000112695': 2, 'ENSG00000130816': 1, 'ENSG00000117154': 1, 'ENSG00000126351': 1, 'ENSG00000213398': 1, 'ENSG00000065978': 1, 'ENSG00000148737': 1, 'ENSG00000138083': 1, 'ENSG00000213296': 1, 'ENSG00000136826': 1, 'ENSG00000187079': 1, 'ENSG00000156170': 1, 'ENSG00000106511': 1, 'ENSG00000148704': 1, 'ENSG00000272843': 1, 'ENSG00000261678': 1, 'ENSG00000271270': 1, 'ENSG00000124092': 1, 'ENSG00000124713': 1, 'ENSG00000129194': 1, 'ENSG00000153234': 1, 'ENSG00000205126': 1, 'ENSG00000066336': 1, 'ENSG00000099954': 1, 'ENSG00000175832': 1, 'ENSG00000169857': 1, 'ENSG00000102974': 1, 'ENSG00000272021': 1, 'ENSG00000108511': 1, 'ENSG00000101096': 1, 'ENSG00000134046': 1, 'ENSG00000188171': 1, 'ENSG00000175879': 1, 'ENSG00000197587': 1, 'ENSG00000086544': 1, 'ENSG00000031544': 1, 'ENSG00000125967': 1, 'ENSG00000012048': 1, 'ENSG00000175073': 1, 'ENSG00000107807': 1, 'ENSG00000164853': 1, 'ENSG00000121068': 1, 'ENSG00000126804': 1, 'ENSG00000135638': 1, 'ENSG00000144485': 1, 'ENSG00000143178': 1, 'ENSG00000234009': 1, 'ENSG00000184481': 1, 'ENSG00000118260': 1, 'ENSG00000091831': 1, 'ENSG00000146755': 1, 'ENSG00000153879': 1, 'ENSG00000166197': 1, 'ENSG00000106459': 1, 'ENSG00000095951': 1, 'ENSG00000128710': 1, 'ENSG00000110799': 1, 'ENSG00000173757': 1, 'ENSG00000147432': 1, 'ENSG00000001167': 1, 'ENSG00000184937': 1, 'ENSG00000256683': 1, 'ENSG00000112033': 1, 'ENSG00000074800': 1, 'ENSG00000213123': 1, 'ENSG00000106261': 1, 'ENSG00000006194': 1, 'ENSG00000179456': 1, 'ENSG00000163623': 1, 'ENSG00000229027': 1, 'ENSG00000188215': 1, 'ENSG00000124827': 1, 'ENSG00000175518': 1, 'ENSG00000168214': 1, 'ENSG00000249642': 1, 'ENSG00000120798': 1, 'ENSG00000105672': 1, 'ENSG00000169836': 1, 'ENSG00000112592': 1, 'ENSG00000109991': 1, 'ENSG00000273174': 1, 'ENSG00000110693': 1, 'ENSG00000136758': 1, 'ENSG00000099326': 1, 'ENSG00000159884': 1, 'ENSG00000166478': 1, 'ENSG00000118160': 1, 'ENSG00000164093': 1, 'ENSG00000125257': 1, 'ENSG00000170265': 1, 'ENSG00000258893': 1, 'ENSG00000136574': 1, 'ENSG00000175329': 1, 'ENSG00000160199': 1, 'ENSG00000171241': 1, 'ENSG00000167840': 1, 'ENSG00000105419': 1, 'ENSG00000138135': 1, 'ENSG00000128604': 1, 'ENSG00000180532': 1, 'ENSG00000215271': 1, 'ENSG00000177463': 1, 'ENSG00000267421': 1, 'ENSG00000071564': 1, 'ENSG00000177606': 1, 'ENSG00000196628': 1, 'ENSG00000139998': 1, 'ENSG00000100146': 1, 'ENSG00000152284': 1, 'ENSG00000170581': 1, 'ENSG00000143437': 1, 'ENSG00000138073': 1, 'ENSG00000114853': 1, 'ENSG00000135457': 1, 'ENSG00000269037': 1, 'ENSG00000125618': 1, 'ENSG00000205078': 1, 'ENSG00000178403': 1, 'ENSG00000137273': 1, 'ENSG00000187140': 1, 'ENSG00000135083': 1, 'ENSG00000106410': 1, 'ENSG00000134532': 1}\n"
     ]
    }
   ],
   "source": [
    "## printing results\n",
    "printResultsWithStats(sortDic(agingCount))"
   ]
  },
  {
   "cell_type": "code",
   "execution_count": null,
   "id": "07781301-7d7e-469c-a660-aacc82b80270",
   "metadata": {},
   "outputs": [],
   "source": []
  },
  {
   "cell_type": "code",
   "execution_count": 7,
   "id": "7a5f7f01-9137-4e7b-8265-e74c54a29679",
   "metadata": {
    "scrolled": true
   },
   "outputs": [
    {
     "name": "stdout",
     "output_type": "stream",
     "text": [
      "Loading: data/fibroblastCellLine.csv\n",
      "Row exception count: 0\n",
      "Column exception count: 0\n",
      "Endpoints exception count: 15\n",
      "0\n",
      "Loading: data/fibroblastCellLine.csv\n",
      "Row exception count: 0\n",
      "Column exception count: 0\n",
      "EdgeCount: 19476492\n"
     ]
    },
    {
     "name": "stderr",
     "output_type": "stream",
     "text": [
      "100%|█████████████████████████████████████████████████████████████████████████████████████████████████████████████████████████████████████████| 310/310 [02:26<00:00,  2.11it/s]\n"
     ]
    }
   ],
   "source": [
    "# control experiment 1\n",
    "datasets = os.listdir('data')\n",
    "datasets.remove('.DS_Store')\n",
    "regulatory = createRegulatory(f'data/{datasets[0]}')\n",
    "globalAgingGenes = createEndpoints('global_aging_genes.tsv')\n",
    "randomGenes = createRandomEndpoints(regulatory, len(globalAgingGenes), 11)\n",
    "controlCount1 = connectionEnrichment(TP53, randomGenes)"
   ]
  },
  {
   "cell_type": "code",
   "execution_count": 8,
   "id": "a691014a-7e2c-4b4d-b5ce-79b0b46f194d",
   "metadata": {
    "scrolled": true
   },
   "outputs": [
    {
     "name": "stdout",
     "output_type": "stream",
     "text": [
      "Size: 177\n",
      "Average: 1.655367231638418\n",
      "Median: 1\n",
      "{'ENSG00000178338': 7, 'ENSG00000228862': 7, 'ENSG00000230971': 6, 'ENSG00000139651': 5, 'ENSG00000267344': 5, 'ENSG00000124713': 5, 'ENSG00000134371': 5, 'ENSG00000167895': 5, 'ENSG00000249317': 4, 'ENSG00000167889': 4, 'ENSG00000247934': 4, 'ENSG00000258893': 4, 'ENSG00000205133': 4, 'ENSG00000116750': 3, 'ENSG00000174628': 3, 'ENSG00000156502': 3, 'ENSG00000224982': 3, 'ENSG00000099954': 3, 'ENSG00000083093': 3, 'ENSG00000142396': 3, 'ENSG00000213123': 3, 'ENSG00000228158': 3, 'ENSG00000187553': 3, 'ENSG00000205126': 3, 'ENSG00000159884': 3, 'ENSG00000175920': 3, 'ENSG00000083097': 2, 'ENSG00000188153': 2, 'ENSG00000258955': 2, 'ENSG00000177150': 2, 'ENSG00000229525': 2, 'ENSG00000247595': 2, 'ENSG00000169836': 2, 'ENSG00000271270': 2, 'ENSG00000160271': 2, 'ENSG00000213300': 2, 'ENSG00000249471': 2, 'ENSG00000126062': 2, 'ENSG00000086544': 2, 'ENSG00000135083': 2, 'ENSG00000146755': 2, 'ENSG00000156750': 2, 'ENSG00000267325': 2, 'ENSG00000160229': 2, 'ENSG00000231163': 2, 'ENSG00000138071': 2, 'ENSG00000111911': 2, 'ENSG00000152082': 2, 'ENSG00000228153': 2, 'ENSG00000261054': 2, 'ENSG00000125447': 2, 'ENSG00000230399': 2, 'ENSG00000170191': 2, 'ENSG00000144644': 2, 'ENSG00000205078': 2, 'ENSG00000175886': 2, 'ENSG00000214140': 2, 'ENSG00000230051': 2, 'ENSG00000214026': 2, 'ENSG00000188215': 2, 'ENSG00000258788': 2, 'ENSG00000213398': 2, 'ENSG00000138641': 2, 'ENSG00000169914': 2, 'ENSG00000114770': 1, 'ENSG00000156920': 1, 'ENSG00000254140': 1, 'ENSG00000232503': 1, 'ENSG00000228784': 1, 'ENSG00000267424': 1, 'ENSG00000229044': 1, 'ENSG00000138135': 1, 'ENSG00000128563': 1, 'ENSG00000123240': 1, 'ENSG00000188373': 1, 'ENSG00000169760': 1, 'ENSG00000197191': 1, 'ENSG00000156738': 1, 'ENSG00000161791': 1, 'ENSG00000099953': 1, 'ENSG00000233369': 1, 'ENSG00000226025': 1, 'ENSG00000144485': 1, 'ENSG00000187097': 1, 'ENSG00000187066': 1, 'ENSG00000235174': 1, 'ENSG00000249642': 1, 'ENSG00000100023': 1, 'ENSG00000187566': 1, 'ENSG00000235477': 1, 'ENSG00000138031': 1, 'ENSG00000129450': 1, 'ENSG00000100625': 1, 'ENSG00000267421': 1, 'ENSG00000172765': 1, 'ENSG00000171603': 1, 'ENSG00000187054': 1, 'ENSG00000173418': 1, 'ENSG00000231550': 1, 'ENSG00000156170': 1, 'ENSG00000261092': 1, 'ENSG00000268112': 1, 'ENSG00000273174': 1, 'ENSG00000169840': 1, 'ENSG00000186448': 1, 'ENSG00000214029': 1, 'ENSG00000110799': 1, 'ENSG00000268080': 1, 'ENSG00000228485': 1, 'ENSG00000131653': 1, 'ENSG00000110330': 1, 'ENSG00000125257': 1, 'ENSG00000112305': 1, 'ENSG00000259725': 1, 'ENSG00000258900': 1, 'ENSG00000138073': 1, 'ENSG00000213296': 1, 'ENSG00000117154': 1, 'ENSG00000100024': 1, 'ENSG00000259717': 1, 'ENSG00000110987': 1, 'ENSG00000186684': 1, 'ENSG00000187244': 1, 'ENSG00000089682': 1, 'ENSG00000259732': 1, 'ENSG00000233047': 1, 'ENSG00000163795': 1, 'ENSG00000136758': 1, 'ENSG00000137819': 1, 'ENSG00000188171': 1, 'ENSG00000130826': 1, 'ENSG00000118432': 1, 'ENSG00000101152': 1, 'ENSG00000246228': 1, 'ENSG00000268592': 1, 'ENSG00000144591': 1, 'ENSG00000137970': 1, 'ENSG00000237437': 1, 'ENSG00000171241': 1, 'ENSG00000172315': 1, 'ENSG00000160783': 1, 'ENSG00000159131': 1, 'ENSG00000147419': 1, 'ENSG00000126001': 1, 'ENSG00000235576': 1, 'ENSG00000169288': 1, 'ENSG00000273062': 1, 'ENSG00000166226': 1, 'ENSG00000228318': 1, 'ENSG00000205653': 1, 'ENSG00000118707': 1, 'ENSG00000118160': 1, 'ENSG00000121900': 1, 'ENSG00000272843': 1, 'ENSG00000269190': 1, 'ENSG00000219133': 1, 'ENSG00000144744': 1, 'ENSG00000144771': 1, 'ENSG00000138617': 1, 'ENSG00000225891': 1, 'ENSG00000173171': 1, 'ENSG00000272021': 1, 'ENSG00000205274': 1, 'ENSG00000229105': 1, 'ENSG00000141026': 1, 'ENSG00000138297': 1, 'ENSG00000084623': 1, 'ENSG00000197414': 1, 'ENSG00000211451': 1, 'ENSG00000109805': 1, 'ENSG00000125247': 1, 'ENSG00000147443': 1, 'ENSG00000172932': 1, 'ENSG00000229027': 1, 'ENSG00000173421': 1, 'ENSG00000084463': 1, 'ENSG00000247556': 1}\n"
     ]
    }
   ],
   "source": [
    "# printing results\n",
    "printResultsWithStats(sortDic(controlCount1))"
   ]
  },
  {
   "cell_type": "code",
   "execution_count": null,
   "id": "7efa8067-00d4-40a4-ba7a-1c739136623b",
   "metadata": {},
   "outputs": [],
   "source": []
  },
  {
   "cell_type": "code",
   "execution_count": 9,
   "id": "ded410a5-d454-49df-b1af-9a31bc8329c2",
   "metadata": {
    "scrolled": true
   },
   "outputs": [
    {
     "name": "stdout",
     "output_type": "stream",
     "text": [
      "Loading: data/fibroblastCellLine.csv\n",
      "Row exception count: 0\n",
      "Column exception count: 0\n",
      "Endpoints exception count: 15\n",
      "0\n",
      "Loading: data/fibroblastCellLine.csv\n",
      "Row exception count: 0\n",
      "Column exception count: 0\n",
      "EdgeCount: 19476492\n"
     ]
    },
    {
     "name": "stderr",
     "output_type": "stream",
     "text": [
      "100%|█████████████████████████████████████████████████████████████████████████████████████████████████████████████████████████████████████████| 310/310 [02:22<00:00,  2.17it/s]\n"
     ]
    }
   ],
   "source": [
    "# control experiment 2\n",
    "datasets = os.listdir('data')\n",
    "datasets.remove('.DS_Store')\n",
    "regulatory = createRegulatory(f'data/{datasets[0]}')\n",
    "globalAgingGenes = createEndpoints('global_aging_genes.tsv')\n",
    "randomGenes = createRandomEndpoints(regulatory, len(globalAgingGenes), 22)\n",
    "controlCount2 = connectionEnrichment(TP53, randomGenes)"
   ]
  },
  {
   "cell_type": "code",
   "execution_count": 10,
   "id": "e2e852bd-3c93-4db5-bcf3-02ecdab81b01",
   "metadata": {
    "scrolled": true
   },
   "outputs": [
    {
     "name": "stdout",
     "output_type": "stream",
     "text": [
      "Size: 177\n",
      "Average: 1.689265536723164\n",
      "Median: 1\n",
      "{'ENSG00000139651': 10, 'ENSG00000258893': 8, 'ENSG00000230971': 6, 'ENSG00000249317': 6, 'ENSG00000178338': 5, 'ENSG00000187553': 5, 'ENSG00000228862': 5, 'ENSG00000124713': 4, 'ENSG00000134371': 4, 'ENSG00000175886': 4, 'ENSG00000205133': 4, 'ENSG00000130826': 4, 'ENSG00000261054': 3, 'ENSG00000111911': 3, 'ENSG00000205126': 3, 'ENSG00000247934': 3, 'ENSG00000156502': 3, 'ENSG00000109805': 3, 'ENSG00000267344': 3, 'ENSG00000099954': 3, 'ENSG00000177150': 3, 'ENSG00000213123': 2, 'ENSG00000174628': 2, 'ENSG00000167895': 2, 'ENSG00000086544': 2, 'ENSG00000116750': 2, 'ENSG00000187097': 2, 'ENSG00000117154': 2, 'ENSG00000156750': 2, 'ENSG00000267421': 2, 'ENSG00000267325': 2, 'ENSG00000231163': 2, 'ENSG00000271270': 2, 'ENSG00000169914': 2, 'ENSG00000136758': 2, 'ENSG00000258955': 2, 'ENSG00000083093': 2, 'ENSG00000224982': 2, 'ENSG00000084623': 2, 'ENSG00000237437': 2, 'ENSG00000125967': 2, 'ENSG00000205274': 2, 'ENSG00000228153': 2, 'ENSG00000167889': 2, 'ENSG00000228158': 2, 'ENSG00000187054': 2, 'ENSG00000231550': 2, 'ENSG00000144591': 2, 'ENSG00000232503': 2, 'ENSG00000146755': 2, 'ENSG00000230399': 2, 'ENSG00000261592': 2, 'ENSG00000226017': 2, 'ENSG00000110987': 2, 'ENSG00000228318': 2, 'ENSG00000142396': 2, 'ENSG00000187244': 2, 'ENSG00000064102': 2, 'ENSG00000247595': 2, 'ENSG00000205078': 2, 'ENSG00000268112': 2, 'ENSG00000138641': 2, 'ENSG00000161791': 2, 'ENSG00000259732': 2, 'ENSG00000109991': 2, 'ENSG00000170191': 2, 'ENSG00000258788': 2, 'ENSG00000166226': 2, 'ENSG00000230051': 2, 'ENSG00000160271': 2, 'ENSG00000103148': 2, 'ENSG00000213398': 2, 'ENSG00000234009': 1, 'ENSG00000113108': 1, 'ENSG00000219133': 1, 'ENSG00000099968': 1, 'ENSG00000233047': 1, 'ENSG00000225953': 1, 'ENSG00000121900': 1, 'ENSG00000147437': 1, 'ENSG00000135083': 1, 'ENSG00000269037': 1, 'ENSG00000214140': 1, 'ENSG00000138031': 1, 'ENSG00000214029': 1, 'ENSG00000259717': 1, 'ENSG00000228485': 1, 'ENSG00000214026': 1, 'ENSG00000159131': 1, 'ENSG00000144771': 1, 'ENSG00000169857': 1, 'ENSG00000169836': 1, 'ENSG00000159884': 1, 'ENSG00000233369': 1, 'ENSG00000171603': 1, 'ENSG00000156920': 1, 'ENSG00000112305': 1, 'ENSG00000084463': 1, 'ENSG00000188385': 1, 'ENSG00000140416': 1, 'ENSG00000231768': 1, 'ENSG00000138297': 1, 'ENSG00000163795': 1, 'ENSG00000160229': 1, 'ENSG00000101152': 1, 'ENSG00000229044': 1, 'ENSG00000249471': 1, 'ENSG00000234390': 1, 'ENSG00000156738': 1, 'ENSG00000169884': 1, 'ENSG00000172765': 1, 'ENSG00000259725': 1, 'ENSG00000166197': 1, 'ENSG00000218027': 1, 'ENSG00000261092': 1, 'ENSG00000110536': 1, 'ENSG00000175920': 1, 'ENSG00000173421': 1, 'ENSG00000126062': 1, 'ENSG00000226025': 1, 'ENSG00000152082': 1, 'ENSG00000125257': 1, 'ENSG00000112695': 1, 'ENSG00000186815': 1, 'ENSG00000250971': 1, 'ENSG00000118707': 1, 'ENSG00000125247': 1, 'ENSG00000089682': 1, 'ENSG00000250404': 1, 'ENSG00000189298': 1, 'ENSG00000188373': 1, 'ENSG00000156170': 1, 'ENSG00000229027': 1, 'ENSG00000110799': 1, 'ENSG00000247556': 1, 'ENSG00000083097': 1, 'ENSG00000112981': 1, 'ENSG00000268080': 1, 'ENSG00000235174': 1, 'ENSG00000228784': 1, 'ENSG00000114770': 1, 'ENSG00000232517': 1, 'ENSG00000188243': 1, 'ENSG00000100023': 1, 'ENSG00000171223': 1, 'ENSG00000214614': 1, 'ENSG00000160783': 1, 'ENSG00000129450': 1, 'ENSG00000147432': 1, 'ENSG00000226510': 1, 'ENSG00000226751': 1, 'ENSG00000187066': 1, 'ENSG00000100625': 1, 'ENSG00000089159': 1, 'ENSG00000164764': 1, 'ENSG00000138617': 1, 'ENSG00000188153': 1, 'ENSG00000235576': 1, 'ENSG00000173418': 1, 'ENSG00000125447': 1, 'ENSG00000153923': 1, 'ENSG00000147416': 1, 'ENSG00000213296': 1, 'ENSG00000231538': 1, 'ENSG00000272843': 1, 'ENSG00000123240': 1, 'ENSG00000254140': 1, 'ENSG00000188883': 1, 'ENSG00000175518': 1, 'ENSG00000272659': 1, 'ENSG00000187555': 1, 'ENSG00000186448': 1, 'ENSG00000188215': 1, 'ENSG00000175325': 1, 'ENSG00000228162': 1, 'ENSG00000205653': 1, 'ENSG00000267424': 1}\n"
     ]
    }
   ],
   "source": [
    "# printing results\n",
    "printResultsWithStats(sortDic(controlCount2))"
   ]
  },
  {
   "cell_type": "code",
   "execution_count": null,
   "id": "ddbd56f5-3749-4c26-984d-ccdf542e9af1",
   "metadata": {},
   "outputs": [],
   "source": []
  },
  {
   "cell_type": "code",
   "execution_count": 11,
   "id": "4c7227d2-6290-4fe6-874e-133a4d948c9a",
   "metadata": {
    "scrolled": true
   },
   "outputs": [
    {
     "name": "stdout",
     "output_type": "stream",
     "text": [
      "Loading: data/fibroblastCellLine.csv\n",
      "Row exception count: 0\n",
      "Column exception count: 0\n",
      "Endpoints exception count: 15\n",
      "0\n",
      "Loading: data/fibroblastCellLine.csv\n",
      "Row exception count: 0\n",
      "Column exception count: 0\n",
      "EdgeCount: 19476492\n"
     ]
    },
    {
     "name": "stderr",
     "output_type": "stream",
     "text": [
      "100%|█████████████████████████████████████████████████████████████████████████████████████████████████████████████████████████████████████████| 310/310 [02:25<00:00,  2.12it/s]\n"
     ]
    }
   ],
   "source": [
    "# control experiment 3\n",
    "datasets = os.listdir('data')\n",
    "datasets.remove('.DS_Store')\n",
    "regulatory = createRegulatory(f'data/{datasets[0]}')\n",
    "globalAgingGenes = createEndpoints('global_aging_genes.tsv')\n",
    "randomGenes = createRandomEndpoints(regulatory, len(globalAgingGenes), 33)\n",
    "controlCount3 = connectionEnrichment(TP53, randomGenes)"
   ]
  },
  {
   "cell_type": "code",
   "execution_count": 12,
   "id": "b4b7d718-b355-4866-b3ab-f62c752fa901",
   "metadata": {
    "scrolled": true
   },
   "outputs": [
    {
     "name": "stdout",
     "output_type": "stream",
     "text": [
      "Size: 182\n",
      "Average: 1.6373626373626373\n",
      "Median: 1.0\n",
      "{'ENSG00000228862': 8, 'ENSG00000230971': 8, 'ENSG00000139651': 8, 'ENSG00000267344': 6, 'ENSG00000156502': 5, 'ENSG00000099954': 5, 'ENSG00000187553': 5, 'ENSG00000134371': 4, 'ENSG00000124713': 4, 'ENSG00000167895': 4, 'ENSG00000247934': 4, 'ENSG00000205133': 4, 'ENSG00000142396': 4, 'ENSG00000224982': 3, 'ENSG00000169836': 3, 'ENSG00000147437': 3, 'ENSG00000084623': 3, 'ENSG00000258893': 3, 'ENSG00000166226': 3, 'ENSG00000231550': 3, 'ENSG00000205126': 3, 'ENSG00000188215': 3, 'ENSG00000130826': 3, 'ENSG00000086544': 2, 'ENSG00000083093': 2, 'ENSG00000259732': 2, 'ENSG00000247556': 2, 'ENSG00000247595': 2, 'ENSG00000125247': 2, 'ENSG00000187244': 2, 'ENSG00000156750': 2, 'ENSG00000138071': 2, 'ENSG00000267325': 2, 'ENSG00000268080': 2, 'ENSG00000228162': 2, 'ENSG00000125257': 2, 'ENSG00000125447': 2, 'ENSG00000084463': 2, 'ENSG00000175886': 2, 'ENSG00000205078': 2, 'ENSG00000214140': 2, 'ENSG00000167889': 2, 'ENSG00000111911': 2, 'ENSG00000147432': 2, 'ENSG00000249471': 2, 'ENSG00000228318': 2, 'ENSG00000170191': 2, 'ENSG00000118707': 2, 'ENSG00000152082': 2, 'ENSG00000175920': 2, 'ENSG00000175325': 2, 'ENSG00000100024': 2, 'ENSG00000145779': 2, 'ENSG00000187054': 2, 'ENSG00000213300': 2, 'ENSG00000103148': 2, 'ENSG00000249317': 2, 'ENSG00000178338': 2, 'ENSG00000109805': 2, 'ENSG00000159884': 2, 'ENSG00000234026': 2, 'ENSG00000125967': 2, 'ENSG00000233369': 2, 'ENSG00000138297': 1, 'ENSG00000254140': 1, 'ENSG00000237437': 1, 'ENSG00000270930': 1, 'ENSG00000249642': 1, 'ENSG00000246228': 1, 'ENSG00000188883': 1, 'ENSG00000214026': 1, 'ENSG00000141026': 1, 'ENSG00000169288': 1, 'ENSG00000089682': 1, 'ENSG00000099953': 1, 'ENSG00000188153': 1, 'ENSG00000117154': 1, 'ENSG00000123240': 1, 'ENSG00000169840': 1, 'ENSG00000173421': 1, 'ENSG00000269190': 1, 'ENSG00000126062': 1, 'ENSG00000230399': 1, 'ENSG00000229105': 1, 'ENSG00000144485': 1, 'ENSG00000240254': 1, 'ENSG00000174628': 1, 'ENSG00000233047': 1, 'ENSG00000118432': 1, 'ENSG00000147443': 1, 'ENSG00000156738': 1, 'ENSG00000112305': 1, 'ENSG00000237048': 1, 'ENSG00000147419': 1, 'ENSG00000160783': 1, 'ENSG00000186815': 1, 'ENSG00000228784': 1, 'ENSG00000234022': 1, 'ENSG00000144591': 1, 'ENSG00000100625': 1, 'ENSG00000171368': 1, 'ENSG00000160271': 1, 'ENSG00000267349': 1, 'ENSG00000234390': 1, 'ENSG00000226510': 1, 'ENSG00000161791': 1, 'ENSG00000213123': 1, 'ENSG00000261092': 1, 'ENSG00000226823': 1, 'ENSG00000169914': 1, 'ENSG00000258788': 1, 'ENSG00000144771': 1, 'ENSG00000187066': 1, 'ENSG00000258955': 1, 'ENSG00000171603': 1, 'ENSG00000100023': 1, 'ENSG00000144644': 1, 'ENSG00000231768': 1, 'ENSG00000272659': 1, 'ENSG00000259781': 1, 'ENSG00000205653': 1, 'ENSG00000269037': 1, 'ENSG00000234617': 1, 'ENSG00000213399': 1, 'ENSG00000089159': 1, 'ENSG00000235174': 1, 'ENSG00000064102': 1, 'ENSG00000261054': 1, 'ENSG00000177150': 1, 'ENSG00000173171': 1, 'ENSG00000228485': 1, 'ENSG00000231163': 1, 'ENSG00000171241': 1, 'ENSG00000160200': 1, 'ENSG00000144744': 1, 'ENSG00000267424': 1, 'ENSG00000083097': 1, 'ENSG00000187266': 1, 'ENSG00000205274': 1, 'ENSG00000205562': 1, 'ENSG00000138617': 1, 'ENSG00000109991': 1, 'ENSG00000138031': 1, 'ENSG00000219133': 1, 'ENSG00000128563': 1, 'ENSG00000169857': 1, 'ENSG00000229027': 1, 'ENSG00000160229': 1, 'ENSG00000110987': 1, 'ENSG00000138135': 1, 'ENSG00000187097': 1, 'ENSG00000175518': 1, 'ENSG00000113108': 1, 'ENSG00000259725': 1, 'ENSG00000157350': 1, 'ENSG00000110799': 1, 'ENSG00000166197': 1, 'ENSG00000232517': 1, 'ENSG00000121900': 1, 'ENSG00000136758': 1, 'ENSG00000116750': 1, 'ENSG00000237569': 1, 'ENSG00000138641': 1, 'ENSG00000232503': 1, 'ENSG00000187555': 1, 'ENSG00000070808': 1, 'ENSG00000175073': 1, 'ENSG00000083812': 1, 'ENSG00000260088': 1, 'ENSG00000188373': 1, 'ENSG00000226025': 1, 'ENSG00000268112': 1, 'ENSG00000267421': 1, 'ENSG00000214029': 1, 'ENSG00000237438': 1, 'ENSG00000172818': 1, 'ENSG00000135083': 1, 'ENSG00000139998': 1, 'ENSG00000213398': 1, 'ENSG00000232623': 1, 'ENSG00000244625': 1, 'ENSG00000228158': 1}\n"
     ]
    }
   ],
   "source": [
    "# printing results\n",
    "printResultsWithStats(sortDic(controlCount3))"
   ]
  },
  {
   "cell_type": "code",
   "execution_count": null,
   "id": "301923b0-4f5e-45f0-8b3e-54893daec460",
   "metadata": {},
   "outputs": [],
   "source": []
  },
  {
   "cell_type": "code",
   "execution_count": 13,
   "id": "3336e945-b484-4e8f-b594-e74860e91c5e",
   "metadata": {},
   "outputs": [
    {
     "data": {
      "text/plain": [
       "Text(0.5, 0, 'Number of overlaps')"
      ]
     },
     "execution_count": 13,
     "metadata": {},
     "output_type": "execute_result"
    },
    {
     "data": {
      "image/png": "[encoded data removed]",
      "text/plain": [
       "<Figure size 700x500 with 1 Axes>"
      ]
     },
     "metadata": {},
     "output_type": "display_data"
    }
   ],
   "source": [
    "# creating graph\n",
    "agingVal = list(agingCount.values())\n",
    "controlVal1 = list(controlCount1.values())\n",
    "controlVal2 = list(controlCount2.values())\n",
    "controlVal3 = list(controlCount3.values())\n",
    "agingName = ['aging' for i in range(len(agingVal))]\n",
    "controlName1 = ['control1' for i in range(len(controlVal1))]\n",
    "controlName2 = ['control2' for i in range(len(controlVal2))]\n",
    "controlName3 = ['control3' for i in range(len(controlVal3))]\n",
    "\n",
    "counts = agingVal + controlVal1 + controlVal2 + controlVal3\n",
    "names = agingName + controlName1 + controlName2 + controlName3\n",
    "\n",
    "df = pd.DataFrame({'counts': counts, 'names': names})\n",
    "\n",
    "sns.set_theme(style=\"ticks\")\n",
    "\n",
    "f, ax = plt.subplots(figsize=(7, 5))\n",
    "sns.despine(f)\n",
    "\n",
    "sns.histplot(\n",
    "    df,\n",
    "    x=\"counts\", hue=\"names\",\n",
    "    multiple=\"dodge\",\n",
    "    palette=\"light:m_r\",\n",
    "    edgecolor=\".3\",\n",
    "    linewidth=.5,\n",
    "    bins = 16,\n",
    ")\n",
    "\n",
    "plt.yscale('log')\n",
    "plt.xlabel(\"Number of overlaps\")"
   ]
  },
  {
   "cell_type": "code",
   "execution_count": null,
   "id": "b3f564e2-3f03-416e-86ef-ed13280d75cd",
   "metadata": {},
   "outputs": [],
   "source": []
  },
  {
   "cell_type": "code",
   "execution_count": 14,
   "id": "aed4cf12-2708-47f5-bcf8-9852cc31cb10",
   "metadata": {},
   "outputs": [
    {
     "name": "stdout",
     "output_type": "stream",
     "text": [
      "Origin: aging\n",
      "Endpoint: aging\n",
      "200 // 420 // 2\n",
      "Endpoint: control1\n",
      "63 // 136 // 2\n",
      "Endpoint: control2\n",
      "67 // 143 // 2\n",
      "Endpoint: control3\n",
      "64 // 140 // 2\n",
      "Origin: control1\n",
      "Endpoint: aging\n",
      "63 // 153 // 2\n",
      "Endpoint: control1\n",
      "177 // 293 // 1\n",
      "Endpoint: control2\n",
      "132 // 248 // 1\n",
      "Endpoint: control3\n",
      "134 // 241 // 1\n",
      "Origin: control2\n",
      "Endpoint: aging\n",
      "67 // 176 // 2\n",
      "Endpoint: control1\n",
      "132 // 244 // 1\n",
      "Endpoint: control2\n",
      "177 // 299 // 1\n",
      "Endpoint: control3\n",
      "135 // 246 // 1\n",
      "Origin: control3\n",
      "Endpoint: aging\n",
      "64 // 170 // 2\n",
      "Endpoint: control1\n",
      "134 // 245 // 1\n",
      "Endpoint: control2\n",
      "135 // 251 // 1\n",
      "Endpoint: control3\n",
      "182 // 298 // 1\n"
     ]
    }
   ],
   "source": [
    "for name1, dataset1 in zip(['aging', 'control1', 'control2', 'control3'], [agingCount, controlCount1, controlCount2, controlCount3]):\n",
    "    print(f'Origin: {name1}')\n",
    "    for name2, dataset2 in zip(['aging', 'control1', 'control2', 'control3'], [agingCount, controlCount1, controlCount2, controlCount3]):\n",
    "        print(f'Endpoint: {name2}')\n",
    "        intersection = set(dataset1).intersection(set(dataset2))\n",
    "        sideTotal2 = sum([dataset2[i] for i in intersection])\n",
    "        print(f'{len(intersection)} // {sideTotal2} // {int(sideTotal2 / len(intersection))}')"
   ]
  },
  {
   "cell_type": "code",
   "execution_count": null,
   "id": "7c96a59f-c4a9-48c7-be8b-d4878324e591",
   "metadata": {},
   "outputs": [],
   "source": []
  },
  {
   "cell_type": "code",
   "execution_count": null,
   "id": "5e9d74c4-cbe5-45b2-9562-d92622bfabb4",
   "metadata": {},
   "outputs": [],
   "source": []
  }
 ],
 "metadata": {
  "kernelspec": {
   "display_name": "Python 3 (ipykernel)",
   "language": "python",
   "name": "python3"
  },
  "language_info": {
   "codemirror_mode": {
    "name": "ipython",
    "version": 3
   },
   "file_extension": ".py",
   "mimetype": "text/x-python",
   "name": "python",
   "nbconvert_exporter": "python",
   "pygments_lexer": "ipython3",
   "version": "3.13.0"
  }
 },
 "nbformat": 4,
 "nbformat_minor": 5
}
