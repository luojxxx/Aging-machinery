{
 "cells": [
  {
   "cell_type": "code",
   "execution_count": 1,
   "id": "274748f2-3e90-4e02-a674-71b46a8d7eea",
   "metadata": {},
   "outputs": [
    {
     "name": "stdout",
     "output_type": "stream",
     "text": [
      "Overwriting my_functions.py\n"
     ]
    }
   ],
   "source": [
    "%%writefile my_functions.py\n",
    "\n",
    "import pandas as pd\n",
    "import os\n",
    "from tqdm import tqdm\n",
    "import statistics\n",
    "import seaborn as sns\n",
    "import matplotlib.pyplot as plt\n",
    "import multiprocessing\n",
    "from graph_tool.all import *\n",
    "\n",
    "# loading and cleaning ENSG converter\n",
    "def createGeneConverter():\n",
    "    test = []\n",
    "    geneId_geneName = {}\n",
    "    with open('Homo_sapiens.GRCh37.74.gtf', 'r') as file:\n",
    "        for line in file:\n",
    "            line = line.strip()\n",
    "            data = line.split('\\t')[-1]\n",
    "            test.append(data)\n",
    "            if 'gene_name' in data:\n",
    "                attributes = data.split(';')\n",
    "                geneId = attributes[0].split(' ')[1].strip('\"')\n",
    "                for attr in attributes:\n",
    "                    if 'gene_name' in attr:\n",
    "                        geneName = attr.split(' ')[2].strip('\"')\n",
    "                        if geneId not in geneId_geneName:\n",
    "                            geneId_geneName[geneId] = geneName\n",
    "    geneName_geneId = {v: k for k, v in geneId_geneName.items()}\n",
    "    return geneName_geneId, geneId_geneName\n",
    "\n",
    "def createRegulatory(regulatory_filepath):\n",
    "    geneName_geneId, geneId_geneName = createGeneConverter()\n",
    "    # loading, cleaning, and permutating regulatory dataset\n",
    "    print(f'Loading: {regulatory_filepath}')\n",
    "    regulatory = pd.read_csv(regulatory_filepath, index_col=0)\n",
    "    \n",
    "    exceptions = []\n",
    "    for name in regulatory.index:\n",
    "        try:\n",
    "            regulatory = regulatory.rename(index={name: geneName_geneId[name]})\n",
    "        except:\n",
    "            exceptions.append(name)\n",
    "    \n",
    "    print(f'Row exception count: {len(exceptions)}')\n",
    "    \n",
    "    for exc in exceptions:\n",
    "        regulatory = regulatory.drop(exc)\n",
    "\n",
    "    # if columns are ENSG IDs, uncomment this part\n",
    "    exceptions = []\n",
    "    for ID in regulatory.columns.tolist():\n",
    "        if ID not in geneId_geneName:\n",
    "            exceptions.append(ID)\n",
    "\n",
    "    # if columns are gene names, uncomment this part\n",
    "    # exceptions = []\n",
    "    # for name in regulatory.columns.tolist():\n",
    "    #     try:\n",
    "    #         regulatory = regulatory.rename(columns={name: geneName_geneId[name]})\n",
    "    #     except:\n",
    "    #         exceptions.append(name)\n",
    "\n",
    "    \n",
    "    print(f'Column exception count: {len(exceptions)}')\n",
    "\n",
    "    for exc in exceptions:\n",
    "        regulatory = regulatory.drop(exc)\n",
    "\n",
    "    \n",
    "    def inverse(x):\n",
    "        return 1/x\n",
    "    \n",
    "    def absolute(x):\n",
    "        return abs(x)\n",
    "    \n",
    "    regulatory = regulatory.map(inverse)\n",
    "    regulatory = regulatory.map(absolute)\n",
    "\n",
    "    return regulatory\n",
    "\n",
    "def createEndpoints(filepath):\n",
    "    geneName_geneId, geneId_geneName = createGeneConverter()\n",
    "    # loading and cleaning dataset\n",
    "    endpoints = pd.read_csv(filepath, sep='\\t', index_col=0)\n",
    "    \n",
    "    exceptions = []\n",
    "    for name in endpoints.index:\n",
    "        try:\n",
    "            endpoints = endpoints.rename(index={name: geneName_geneId[name.upper()]})\n",
    "        except:\n",
    "            exceptions.append(name)\n",
    "    \n",
    "    print(f'Endpoints exception count: {len(exceptions)}')\n",
    "    \n",
    "    for exc in exceptions:\n",
    "        endpoints = endpoints.drop(exc)\n",
    "\n",
    "    return list(endpoints.index)\n",
    "\n",
    "def createRandomEndpoints(regulatory, num, seed):\n",
    "    rand = regulatory.sample(n=num, random_state=seed)\n",
    "    return list(rand.index)\n",
    "\n",
    "def createGraph(regulatory, endpoints):\n",
    "    regMatrix = regulatory.to_numpy().tolist()\n",
    "    nodes = list(set(list(regulatory.index) + regulatory.columns.tolist() + endpoints))\n",
    "    g = Graph()\n",
    "    name_prop = g.new_vertex_property('string')\n",
    "    vertexNameDic = {}\n",
    "    for node in nodes:\n",
    "        v = g.add_vertex()\n",
    "        name_prop[v] = node\n",
    "        vertexNameDic[v] = node\n",
    "    g.vertex_properties['name'] = name_prop\n",
    "    nameVertexDic = {v: k for k, v in vertexNameDic.items()}\n",
    "\n",
    "    edgeCount = 0\n",
    "    g.ep.weight = g.new_edge_property(\"double\")\n",
    "    for rowName, row in zip(regulatory.index, regMatrix):\n",
    "        for columnName, cell in zip(regulatory.columns.tolist(), row):\n",
    "            \n",
    "            rowVertex = nameVertexDic[rowName]\n",
    "            columnVertex = nameVertexDic[columnName]\n",
    "            \n",
    "            edge = g.add_edge(rowVertex, columnVertex)\n",
    "            g.ep.weight[edge] = cell\n",
    "            edgeCount += 1\n",
    "    \n",
    "    print(f'EdgeCount: {edgeCount}')\n",
    "\n",
    "    return g, nameVertexDic, vertexNameDic\n",
    "\n",
    "def processData(data):\n",
    "    dataset = data['dataset']\n",
    "    origins = data['origins']\n",
    "    endpoints = data['endpoints']\n",
    "    regulatory = createRegulatory(f'data/{dataset}')\n",
    "    g, nameVertexDic, vertexNameDic = createGraph(regulatory, endpoints)\n",
    "    \n",
    "    count = {}\n",
    "    for i, origin in enumerate(origins):\n",
    "        print(i)\n",
    "        for endpoint in endpoints:\n",
    "            try:\n",
    "                path = shortest_path(g, nameVertexDic[origin], nameVertexDic[endpoint], weights=g.ep.weight)\n",
    "                path.pop(0)\n",
    "                path.pop()\n",
    "                for node in [vertexNameDic[node] for node in path]:\n",
    "                    if node not in count:\n",
    "                        count[node] = 1\n",
    "                    else:\n",
    "                        count[node] += 1\n",
    "            except:\n",
    "                pass\n",
    "        \n",
    "    return count\n",
    "\n",
    "def connectionEnrichment(origins, endpoints):\n",
    "    datasets = os.listdir('data')\n",
    "    datasets.remove('.DS_Store')\n",
    "    count = {}\n",
    "\n",
    "    data = [{'dataset': dataset, 'origins': origins, 'endpoints': endpoints} for dataset in datasets]\n",
    "    with multiprocessing.Pool(processes=12) as pool:\n",
    "        results = pool.map(processData, data)\n",
    "            \n",
    "    for dic in results:\n",
    "        for key, val in dic.items():\n",
    "            if key not in count:\n",
    "                count[key] = 1\n",
    "            else:\n",
    "                count[key] += 1\n",
    "    return count\n",
    "    \n",
    "def sortDic(dic):\n",
    "    return dict(reversed(sorted(dic.items(), key=lambda item: item[1])))\n",
    "\n",
    "def printResultsWithStats(dic):\n",
    "    print(f'Size: {len(dic)}')\n",
    "    print(f'Average: {statistics.mean(dic.values())}')\n",
    "    print(f'Median: {statistics.median(dic.values())}')\n",
    "    print(dic)"
   ]
  },
  {
   "cell_type": "code",
   "execution_count": 2,
   "id": "784957f1-aae0-471b-9517-a081e6163aa1",
   "metadata": {},
   "outputs": [],
   "source": [
    "# loading libraries\n",
    "from my_functions import createRegulatory, createEndpoints, createRandomEndpoints, createGraph, processData, connectionEnrichment, sortDic, printResultsWithStats"
   ]
  },
  {
   "cell_type": "code",
   "execution_count": null,
   "id": "065259c6-8ab3-4168-aa53-71642f18b164",
   "metadata": {},
   "outputs": [],
   "source": []
  },
  {
   "cell_type": "code",
   "execution_count": 3,
   "id": "65f8fdf9-cf5d-4f0e-b08f-31a9cdb6ab0b",
   "metadata": {},
   "outputs": [],
   "source": [
    "import pandas as pd\n",
    "import os\n",
    "from tqdm import tqdm\n",
    "import statistics\n",
    "import seaborn as sns\n",
    "import matplotlib.pyplot as plt\n",
    "import multiprocessing"
   ]
  },
  {
   "cell_type": "code",
   "execution_count": 4,
   "id": "15397bb0-80f3-4709-bbbb-bea54702b33c",
   "metadata": {},
   "outputs": [
    {
     "name": "stdout",
     "output_type": "stream",
     "text": [
      "Loading: data/Testis.csv\n",
      "Row exception count: 0\n",
      "Column exception count: 0\n",
      "Endpoints exception count: 15\n"
     ]
    }
   ],
   "source": [
    "regulatory = createRegulatory(f'data/Testis.csv')\n",
    "globalAgingGenes = createEndpoints('global_aging_genes.tsv')"
   ]
  },
  {
   "cell_type": "code",
   "execution_count": 5,
   "id": "3ec0589d-745a-4ecf-a769-b85e55c99f3e",
   "metadata": {},
   "outputs": [],
   "source": [
    "from graph_tool.all import *\n",
    "\n",
    "endpoints = globalAgingGenes\n",
    "\n",
    "regMatrix = regulatory.to_numpy().tolist()\n",
    "nodes = list(set(list(regulatory.index) + regulatory.columns.tolist() + endpoints))\n",
    "g = Graph()\n",
    "name_prop = g.new_vertex_property('string')\n",
    "vertexNameDic = {}\n",
    "for node in nodes:\n",
    "    v = g.add_vertex()\n",
    "    name_prop[v] = node\n",
    "    vertexNameDic[v] = node\n",
    "g.vertex_properties['name'] = name_prop\n",
    "nameVertexDic = {v: k for k, v in vertexNameDic.items()}"
   ]
  },
  {
   "cell_type": "code",
   "execution_count": 6,
   "id": "57718cf4-e967-4a4e-8ca4-77c9ccc1910b",
   "metadata": {},
   "outputs": [
    {
     "name": "stdout",
     "output_type": "stream",
     "text": [
      "EdgeCount: 19476492\n"
     ]
    }
   ],
   "source": [
    "edgeCount = 0\n",
    "g.ep.weight = g.new_edge_property(\"double\")\n",
    "for rowName, row in zip(regulatory.index, regMatrix):\n",
    "    for columnName, cell in zip(regulatory.columns.tolist(), row):\n",
    "        \n",
    "        rowVertex = nameVertexDic[rowName]\n",
    "        columnVertex = nameVertexDic[columnName]\n",
    "        \n",
    "        edge = g.add_edge(rowVertex, columnVertex)\n",
    "        g.ep.weight[edge] = cell\n",
    "        edgeCount += 1\n",
    "\n",
    "print(f'EdgeCount: {edgeCount}')"
   ]
  },
  {
   "cell_type": "code",
   "execution_count": null,
   "id": "eeb25025-3fd7-45e5-b78e-86c54164d5f3",
   "metadata": {},
   "outputs": [],
   "source": []
  },
  {
   "cell_type": "code",
   "execution_count": 12,
   "id": "5f88ad51-b03b-437e-8c47-0e6c2dd3c351",
   "metadata": {},
   "outputs": [],
   "source": [
    "path = shortest_path(g, nameVertexDic['ENSG00000141510'], nameVertexDic['ENSG00000100412'], weights=g.ep.weight)"
   ]
  },
  {
   "cell_type": "code",
   "execution_count": 15,
   "id": "738fdbd9-b542-4ec1-9356-8f6b27fb0865",
   "metadata": {},
   "outputs": [
    {
     "data": {
      "text/plain": [
       "[<Vertex object with index '5952' at 0x39ea5eac0>,\n",
       " <Vertex object with index '557' at 0x39ea5e9c0>,\n",
       " <Vertex object with index '11009' at 0x39ea5e940>,\n",
       " <Vertex object with index '13490' at 0x39c92e540>]"
      ]
     },
     "execution_count": 15,
     "metadata": {},
     "output_type": "execute_result"
    }
   ],
   "source": [
    "path[0]"
   ]
  },
  {
   "cell_type": "code",
   "execution_count": 19,
   "id": "fed9799a-c604-4fff-82fb-2184ae5c2668",
   "metadata": {},
   "outputs": [
    {
     "data": {
      "text/plain": [
       "['ENSG00000141510', 'ENSG00000162924', 'ENSG00000135625', 'ENSG00000100412']"
      ]
     },
     "execution_count": 19,
     "metadata": {},
     "output_type": "execute_result"
    }
   ],
   "source": [
    "[vertexNameDic[node] for node in path[0]]"
   ]
  },
  {
   "cell_type": "code",
   "execution_count": null,
   "id": "67f8f7f0-2d68-4ab5-a7f4-d71cbf871ab1",
   "metadata": {},
   "outputs": [],
   "source": []
  },
  {
   "cell_type": "code",
   "execution_count": null,
   "id": "9aeb5d9d-dc84-4110-9b6e-42c6bc3ec9fe",
   "metadata": {
    "scrolled": true
   },
   "outputs": [
    {
     "name": "stdout",
     "output_type": "stream",
     "text": [
      "Endpoints exception count: 15\n"
     ]
    }
   ],
   "source": [
    "# multi-dataset aging gene enrichment\n",
    "globalAgingGenes = createEndpoints('global_aging_genes.tsv')\n",
    "agingCount = connectionEnrichment(globalAgingGenes, globalAgingGenes)"
   ]
  },
  {
   "cell_type": "code",
   "execution_count": null,
   "id": "f30ad9c9-9e0a-4338-a5fe-a54d8edf4114",
   "metadata": {
    "scrolled": true
   },
   "outputs": [],
   "source": [
    "## printing results\n",
    "printResultsWithStats(sortDic(agingCount))"
   ]
  },
  {
   "cell_type": "code",
   "execution_count": null,
   "id": "07781301-7d7e-469c-a660-aacc82b80270",
   "metadata": {},
   "outputs": [],
   "source": []
  },
  {
   "cell_type": "code",
   "execution_count": null,
   "id": "7a5f7f01-9137-4e7b-8265-e74c54a29679",
   "metadata": {
    "scrolled": true
   },
   "outputs": [],
   "source": [
    "# control experiment 1\n",
    "datasets = os.listdir('data')\n",
    "datasets.remove('.DS_Store')\n",
    "regulatory = createRegulatory(f'data/{datasets[0]}')\n",
    "globalAgingGenes = createEndpoints('global_aging_genes.tsv')\n",
    "randomGenes = createRandomEndpoints(regulatory, len(globalAgingGenes), 42)\n",
    "controlCount1 = connectionEnrichment(randomGenes, randomGenes)"
   ]
  },
  {
   "cell_type": "code",
   "execution_count": null,
   "id": "a691014a-7e2c-4b4d-b5ce-79b0b46f194d",
   "metadata": {
    "scrolled": true
   },
   "outputs": [],
   "source": [
    "# printing results\n",
    "printResultsWithStats(sortDic(controlCount1))"
   ]
  },
  {
   "cell_type": "code",
   "execution_count": null,
   "id": "7efa8067-00d4-40a4-ba7a-1c739136623b",
   "metadata": {},
   "outputs": [],
   "source": []
  },
  {
   "cell_type": "code",
   "execution_count": null,
   "id": "ded410a5-d454-49df-b1af-9a31bc8329c2",
   "metadata": {
    "scrolled": true
   },
   "outputs": [],
   "source": [
    "# control experiment 2\n",
    "datasets = os.listdir('data')\n",
    "datasets.remove('.DS_Store')\n",
    "regulatory = createRegulatory(f'data/{datasets[0]}')\n",
    "globalAgingGenes = createEndpoints('global_aging_genes.tsv')\n",
    "randomGenes = createRandomEndpoints(regulatory, len(globalAgingGenes), 43)\n",
    "controlCount2 = connectionEnrichment(randomGenes, randomGenes)"
   ]
  },
  {
   "cell_type": "code",
   "execution_count": null,
   "id": "e2e852bd-3c93-4db5-bcf3-02ecdab81b01",
   "metadata": {
    "scrolled": true
   },
   "outputs": [],
   "source": [
    "# printing results\n",
    "printResultsWithStats(sortDic(controlCount2))"
   ]
  },
  {
   "cell_type": "code",
   "execution_count": null,
   "id": "ddbd56f5-3749-4c26-984d-ccdf542e9af1",
   "metadata": {},
   "outputs": [],
   "source": []
  },
  {
   "cell_type": "code",
   "execution_count": null,
   "id": "4c7227d2-6290-4fe6-874e-133a4d948c9a",
   "metadata": {
    "scrolled": true
   },
   "outputs": [],
   "source": [
    "# control experiment 3\n",
    "datasets = os.listdir('data')\n",
    "datasets.remove('.DS_Store')\n",
    "regulatory = createRegulatory(f'data/{datasets[0]}')\n",
    "globalAgingGenes = createEndpoints('global_aging_genes.tsv')\n",
    "randomGenes = createRandomEndpoints(regulatory, len(globalAgingGenes), 44)\n",
    "controlCount3 = connectionEnrichment(randomGenes, randomGenes)"
   ]
  },
  {
   "cell_type": "code",
   "execution_count": null,
   "id": "b4b7d718-b355-4866-b3ab-f62c752fa901",
   "metadata": {
    "scrolled": true
   },
   "outputs": [],
   "source": [
    "# printing results\n",
    "printResultsWithStats(sortDic(controlCount3))"
   ]
  },
  {
   "cell_type": "code",
   "execution_count": null,
   "id": "301923b0-4f5e-45f0-8b3e-54893daec460",
   "metadata": {},
   "outputs": [],
   "source": []
  },
  {
   "cell_type": "code",
   "execution_count": null,
   "id": "3336e945-b484-4e8f-b594-e74860e91c5e",
   "metadata": {},
   "outputs": [],
   "source": [
    "# creating graph\n",
    "agingVal = list(agingCount.values())\n",
    "controlVal1 = list(controlCount1.values())\n",
    "controlVal2 = list(controlCount2.values())\n",
    "controlVal3 = list(controlCount3.values())\n",
    "agingName = ['aging' for i in range(len(agingVal))]\n",
    "controlName1 = ['control1' for i in range(len(controlVal1))]\n",
    "controlName2 = ['control2' for i in range(len(controlVal2))]\n",
    "controlName3 = ['control3' for i in range(len(controlVal3))]\n",
    "\n",
    "counts = agingVal + controlVal1 + controlVal2 + controlVal3\n",
    "names = agingName + controlName1 + controlName2 + controlName3\n",
    "\n",
    "df = pd.DataFrame({'counts': counts, 'names': names})\n",
    "\n",
    "sns.set_theme(style=\"ticks\")\n",
    "\n",
    "f, ax = plt.subplots(figsize=(7, 5))\n",
    "sns.despine(f)\n",
    "\n",
    "sns.histplot(\n",
    "    df,\n",
    "    x=\"counts\", hue=\"names\",\n",
    "    multiple=\"dodge\",\n",
    "    palette=\"light:m_r\",\n",
    "    edgecolor=\".3\",\n",
    "    linewidth=.5,\n",
    "    bins = 16,\n",
    ")\n",
    "\n",
    "plt.yscale('log')\n",
    "plt.xlabel(\"Number of overlaps\")"
   ]
  },
  {
   "cell_type": "code",
   "execution_count": null,
   "id": "b3f564e2-3f03-416e-86ef-ed13280d75cd",
   "metadata": {},
   "outputs": [],
   "source": []
  },
  {
   "cell_type": "code",
   "execution_count": null,
   "id": "aed4cf12-2708-47f5-bcf8-9852cc31cb10",
   "metadata": {},
   "outputs": [],
   "source": [
    "for name1, dataset1 in zip(['aging', 'control1', 'control2', 'control3'], [agingCount, controlCount1, controlCount2, controlCount3]):\n",
    "    print(f'Origin: {name1}')\n",
    "    for name2, dataset2 in zip(['aging', 'control1', 'control2', 'control3'], [agingCount, controlCount1, controlCount2, controlCount3]):\n",
    "        print(f'Endpoint: {name2}')\n",
    "        intersection = set(dataset1).intersection(set(dataset2))\n",
    "        sideTotal2 = sum([dataset2[i] for i in intersection])\n",
    "        print(f'{len(intersection)} // {sideTotal2} // {int(sideTotal2 / len(intersection))}')"
   ]
  },
  {
   "cell_type": "code",
   "execution_count": null,
   "id": "7c96a59f-c4a9-48c7-be8b-d4878324e591",
   "metadata": {},
   "outputs": [],
   "source": []
  },
  {
   "cell_type": "code",
   "execution_count": null,
   "id": "5e9d74c4-cbe5-45b2-9562-d92622bfabb4",
   "metadata": {},
   "outputs": [],
   "source": [
    "genageDF = pd.read_csv(\"genage_human.csv\")\n",
    "genageList = list(genageDF['symbol'])\n",
    "genageENSGList = [geneName_geneId[name] for name in genageList]"
   ]
  },
  {
   "cell_type": "code",
   "execution_count": null,
   "id": "738e74ca-e9c8-4b74-910b-11c1a1e9856e",
   "metadata": {},
   "outputs": [],
   "source": [
    "# experiment\n",
    "filteredAgingCount = {k:v for k,v in agingCount.items() if k in genageENSGList}"
   ]
  },
  {
   "cell_type": "code",
   "execution_count": null,
   "id": "087421d7-f3da-48a5-bfbc-947f8a5c582f",
   "metadata": {
    "scrolled": true
   },
   "outputs": [],
   "source": [
    "printResultsWithStats(sortDic(filteredAgingCount))"
   ]
  },
  {
   "cell_type": "code",
   "execution_count": null,
   "id": "2de1c835-7ed6-40ad-8ece-999cd839ddd2",
   "metadata": {},
   "outputs": [],
   "source": []
  },
  {
   "cell_type": "code",
   "execution_count": null,
   "id": "c5dd1923-031d-4495-ab00-a098e0b2e2f2",
   "metadata": {},
   "outputs": [],
   "source": [
    "# control 1\n",
    "filteredControlCount1 = {k:v for k,v in controlCount1.items() if k in genageENSGList}"
   ]
  },
  {
   "cell_type": "code",
   "execution_count": null,
   "id": "8a9bc3d6-e1de-47e9-a9c0-d94f659d5ce6",
   "metadata": {
    "scrolled": true
   },
   "outputs": [],
   "source": [
    "printResultsWithStats(sortDic(filteredControlCount1))"
   ]
  },
  {
   "cell_type": "code",
   "execution_count": null,
   "id": "73f5b3ad-1661-43b3-80d7-6bbaaeae97fc",
   "metadata": {},
   "outputs": [],
   "source": []
  },
  {
   "cell_type": "code",
   "execution_count": null,
   "id": "59727dc3-e1b9-496b-aafe-e2912e98e792",
   "metadata": {},
   "outputs": [],
   "source": [
    "# control 1\n",
    "filteredControlCount2 = {k:v for k,v in controlCount2.items() if k in genageENSGList}"
   ]
  },
  {
   "cell_type": "code",
   "execution_count": null,
   "id": "51a4219a-53d0-4a5a-93b8-8df1f0dd27cb",
   "metadata": {
    "scrolled": true
   },
   "outputs": [],
   "source": [
    "printResultsWithStats(sortDic(filteredControlCount2))"
   ]
  },
  {
   "cell_type": "code",
   "execution_count": null,
   "id": "b0f78734-5855-4748-9f88-78a71658c70f",
   "metadata": {},
   "outputs": [],
   "source": []
  },
  {
   "cell_type": "code",
   "execution_count": null,
   "id": "f5e0df54-0243-43c9-8d2b-e130a5a3b321",
   "metadata": {},
   "outputs": [],
   "source": [
    "# control 1\n",
    "filteredControlCount3 = {k:v for k,v in controlCount3.items() if k in genageENSGList}"
   ]
  },
  {
   "cell_type": "code",
   "execution_count": null,
   "id": "a918e5d3-ef5d-441d-926d-55d389d7c6df",
   "metadata": {
    "scrolled": true
   },
   "outputs": [],
   "source": [
    "printResultsWithStats(sortDic(filteredControlCount3))"
   ]
  },
  {
   "cell_type": "code",
   "execution_count": null,
   "id": "ffa71452-e279-4fb6-b2d7-9db97e972989",
   "metadata": {},
   "outputs": [],
   "source": []
  },
  {
   "cell_type": "code",
   "execution_count": null,
   "id": "ea37bb00-0b7d-48ad-9aa0-8ccf9529db71",
   "metadata": {},
   "outputs": [],
   "source": [
    "# creating graph\n",
    "agingVal = list(filteredAgingCount.values())\n",
    "controlVal1 = list(filteredControlCount1.values())\n",
    "controlVal2 = list(filteredControlCount2.values())\n",
    "controlVal3 = list(filteredControlCount3.values())\n",
    "agingName = ['aging' for i in range(len(agingVal))]\n",
    "controlName1 = ['control1' for i in range(len(controlVal1))]\n",
    "controlName2 = ['control2' for i in range(len(controlVal2))]\n",
    "controlName3 = ['control3' for i in range(len(controlVal3))]\n",
    "\n",
    "counts = agingVal + controlVal1 + controlVal2 + controlVal3\n",
    "names = agingName + controlName1 + controlName2 + controlName3\n",
    "\n",
    "df = pd.DataFrame({'counts': counts, 'names': names})\n",
    "\n",
    "sns.set_theme(style=\"ticks\")\n",
    "\n",
    "f, ax = plt.subplots(figsize=(7, 5))\n",
    "sns.despine(f)\n",
    "\n",
    "sns.histplot(\n",
    "    df,\n",
    "    x=\"counts\", hue=\"names\",\n",
    "    multiple=\"dodge\",\n",
    "    palette=\"light:m_r\",\n",
    "    edgecolor=\".3\",\n",
    "    linewidth=.5,\n",
    "    bins = 16,\n",
    ")\n",
    "\n",
    "plt.yscale('log')\n",
    "plt.xlabel(\"Number of overlaps between central genes and GenAge\")"
   ]
  },
  {
   "cell_type": "code",
   "execution_count": null,
   "id": "ea72e254-a66e-471a-86eb-8daaa872f97b",
   "metadata": {},
   "outputs": [],
   "source": []
  }
 ],
 "metadata": {
  "kernelspec": {
   "display_name": "Python 3 (ipykernel)",
   "language": "python",
   "name": "python3"
  },
  "language_info": {
   "codemirror_mode": {
    "name": "ipython",
    "version": 3
   },
   "file_extension": ".py",
   "mimetype": "text/x-python",
   "name": "python",
   "nbconvert_exporter": "python",
   "pygments_lexer": "ipython3",
   "version": "3.12.2"
  }
 },
 "nbformat": 4,
 "nbformat_minor": 5
}
