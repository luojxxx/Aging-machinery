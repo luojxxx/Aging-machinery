{
 "cells": [
  {
   "cell_type": "code",
   "execution_count": 5,
   "id": "274748f2-3e90-4e02-a674-71b46a8d7eea",
   "metadata": {},
   "outputs": [
    {
     "name": "stdout",
     "output_type": "stream",
     "text": [
      "Overwriting my_functions.py\n"
     ]
    }
   ],
   "source": [
    "%%writefile my_functions.py\n",
    "\n",
    "import pandas as pd\n",
    "import os\n",
    "from datetime import datetime\n",
    "from tqdm import tqdm\n",
    "import statistics\n",
    "import seaborn as sns\n",
    "import matplotlib.pyplot as plt\n",
    "import multiprocessing\n",
    "from graph_tool import topology, Graph\n",
    "\n",
    "# loading and cleaning ENSG converter\n",
    "def createGeneConverter():\n",
    "    test = []\n",
    "    geneId_geneName = {}\n",
    "    with open('Homo_sapiens.GRCh37.74.gtf', 'r') as file:\n",
    "        for line in file:\n",
    "            line = line.strip()\n",
    "            data = line.split('\\t')[-1]\n",
    "            test.append(data)\n",
    "            if 'gene_name' in data:\n",
    "                attributes = data.split(';')\n",
    "                geneId = attributes[0].split(' ')[1].strip('\"')\n",
    "                for attr in attributes:\n",
    "                    if 'gene_name' in attr:\n",
    "                        geneName = attr.split(' ')[2].strip('\"')\n",
    "                        if geneId not in geneId_geneName:\n",
    "                            geneId_geneName[geneId] = geneName\n",
    "    geneName_geneId = {v: k for k, v in geneId_geneName.items()}\n",
    "    return geneName_geneId, geneId_geneName\n",
    "\n",
    "def createRegulatory(regulatory_filepath):\n",
    "    geneName_geneId, geneId_geneName = createGeneConverter()\n",
    "    # loading, cleaning, and permutating regulatory dataset\n",
    "    print(f'Loading: {regulatory_filepath}')\n",
    "    regulatory = pd.read_csv(regulatory_filepath, index_col=0)\n",
    "    \n",
    "    exceptions = []\n",
    "    for name in regulatory.index:\n",
    "        try:\n",
    "            regulatory = regulatory.rename(index={name: geneName_geneId[name]})\n",
    "        except:\n",
    "            exceptions.append(name)\n",
    "    \n",
    "    print(f'Row exception count: {len(exceptions)}')\n",
    "    \n",
    "    for exc in exceptions:\n",
    "        regulatory = regulatory.drop(exc)\n",
    "\n",
    "    # if columns are ENSG IDs, uncomment this part\n",
    "    exceptions = []\n",
    "    for ID in regulatory.columns.tolist():\n",
    "        if ID not in geneId_geneName:\n",
    "            exceptions.append(ID)\n",
    "\n",
    "    # if columns are gene names, uncomment this part\n",
    "    # exceptions = []\n",
    "    # for name in regulatory.columns.tolist():\n",
    "    #     try:\n",
    "    #         regulatory = regulatory.rename(columns={name: geneName_geneId[name]})\n",
    "    #     except:\n",
    "    #         exceptions.append(name)\n",
    "\n",
    "    \n",
    "    print(f'Column exception count: {len(exceptions)}')\n",
    "\n",
    "    for exc in exceptions:\n",
    "        regulatory = regulatory.drop(exc)\n",
    "\n",
    "    \n",
    "    def inverse(x):\n",
    "        return 1/x\n",
    "    \n",
    "    def absolute(x):\n",
    "        return abs(x)\n",
    "    \n",
    "    regulatory = regulatory.map(inverse)\n",
    "    regulatory = regulatory.map(absolute)\n",
    "\n",
    "    return regulatory\n",
    "\n",
    "def createEndpoints(filepath):\n",
    "    geneName_geneId, geneId_geneName = createGeneConverter()\n",
    "    # loading and cleaning dataset\n",
    "    endpoints = pd.read_csv(filepath, sep='\\t', index_col=0)\n",
    "    \n",
    "    exceptions = []\n",
    "    for name in endpoints.index:\n",
    "        try:\n",
    "            endpoints = endpoints.rename(index={name: geneName_geneId[name.upper()]})\n",
    "        except:\n",
    "            exceptions.append(name)\n",
    "    \n",
    "    print(f'Endpoints exception count: {len(exceptions)}')\n",
    "    \n",
    "    for exc in exceptions:\n",
    "        endpoints = endpoints.drop(exc)\n",
    "\n",
    "    return list(endpoints.index)\n",
    "\n",
    "def createRandomEndpoints(regulatory, num, seed):\n",
    "    rand = regulatory.sample(n=num, random_state=seed)\n",
    "    return list(rand.index)\n",
    "\n",
    "def createGraph(regulatory, endpoints):\n",
    "    regMatrix = regulatory.to_numpy().tolist()\n",
    "    nodes = list(set(list(regulatory.index) + regulatory.columns.tolist() + endpoints))\n",
    "    g = Graph()\n",
    "    g.set_directed(False)\n",
    "    name_prop = g.new_vertex_property('string')\n",
    "    vertexNameDic = {}\n",
    "    for node in nodes:\n",
    "        v = g.add_vertex()\n",
    "        name_prop[v] = node\n",
    "        vertexNameDic[v] = node\n",
    "    g.vertex_properties['name'] = name_prop\n",
    "    nameVertexDic = {v: k for k, v in vertexNameDic.items()}\n",
    "\n",
    "    edgeCount = 0\n",
    "    g.ep.weight = g.new_edge_property(\"double\")\n",
    "    for rowName, row in zip(regulatory.index, regMatrix):\n",
    "        for columnName, cell in zip(regulatory.columns.tolist(), row):\n",
    "            \n",
    "            rowVertex = nameVertexDic[rowName]\n",
    "            columnVertex = nameVertexDic[columnName]\n",
    "            \n",
    "            edge = g.add_edge(rowVertex, columnVertex)\n",
    "            g.ep.weight[edge] = cell\n",
    "            edgeCount += 1\n",
    "    \n",
    "    print(f'EdgeCount: {edgeCount}')\n",
    "\n",
    "    return g, nameVertexDic, vertexNameDic\n",
    "\n",
    "def processData(data):\n",
    "    print(datetime.now().strftime(\"%Y-%m-%d %H:%M:%S\"))\n",
    "    dataset = data['dataset']\n",
    "    origins = data['origins']\n",
    "    endpoints = data['endpoints']\n",
    "    regulatory = createRegulatory(f'data/{dataset}')\n",
    "    g, nameVertexDic, vertexNameDic = createGraph(regulatory, endpoints)\n",
    "    \n",
    "    count = {}\n",
    "    exceptionCount = 0\n",
    "    for i, origin in enumerate(origins):\n",
    "        print(i)\n",
    "        for endpoint in endpoints:\n",
    "            try:\n",
    "                path = topology.shortest_path(g, nameVertexDic[origin], nameVertexDic[endpoint], weights=g.ep.weight)\n",
    "                path = path[0]\n",
    "                print(f'origin:{nameVertexDic[origin]} endpoint:{nameVertexDic[endpoint]} path:{path}')\n",
    "                path.pop(0)\n",
    "                path.pop()\n",
    "                for node in [vertexNameDic[node] for node in path]:\n",
    "                    if node not in count:\n",
    "                        count[node] = 1\n",
    "                    else:\n",
    "                        count[node] += 1\n",
    "            except:\n",
    "                exceptionCount += 1\n",
    "                pass\n",
    "    print(f'exceptionCount: {exceptionCount}')\n",
    "    return count\n",
    "\n",
    "def connectionEnrichment(origins, endpoints):\n",
    "    datasets = os.listdir('data')\n",
    "    datasets.remove('.DS_Store')\n",
    "    count = {}\n",
    "\n",
    "    data = [{'dataset': dataset, 'origins': origins, 'endpoints': endpoints} for dataset in datasets]\n",
    "    with multiprocessing.Pool(processes=12) as pool:\n",
    "        results = pool.map(processData, data)\n",
    "            \n",
    "    for dic in results:\n",
    "        for key, val in dic.items():\n",
    "            if key not in count:\n",
    "                count[key] = 1\n",
    "            else:\n",
    "                count[key] += 1\n",
    "    return count\n",
    "    \n",
    "def sortDic(dic):\n",
    "    return dict(reversed(sorted(dic.items(), key=lambda item: item[1])))\n",
    "\n",
    "def printResultsWithStats(dic):\n",
    "    print(f'Size: {len(dic)}')\n",
    "    print(f'Average: {statistics.mean(dic.values())}')\n",
    "    print(f'Median: {statistics.median(dic.values())}')\n",
    "    print(dic)"
   ]
  },
  {
   "cell_type": "code",
   "execution_count": 6,
   "id": "784957f1-aae0-471b-9517-a081e6163aa1",
   "metadata": {},
   "outputs": [],
   "source": [
    "# loading libraries\n",
    "from my_functions import createRegulatory, createEndpoints, createRandomEndpoints, createGraph, processData, connectionEnrichment, sortDic, printResultsWithStats"
   ]
  },
  {
   "cell_type": "code",
   "execution_count": null,
   "id": "cd1f308c-0935-4445-911c-49451e9c7519",
   "metadata": {},
   "outputs": [],
   "source": []
  },
  {
   "cell_type": "code",
   "execution_count": 18,
   "id": "e0af25a7-7cbb-496e-b72f-596ececef224",
   "metadata": {},
   "outputs": [],
   "source": [
    "from graph_tool import topology, Graph"
   ]
  },
  {
   "cell_type": "code",
   "execution_count": 6,
   "id": "65f8fdf9-cf5d-4f0e-b08f-31a9cdb6ab0b",
   "metadata": {},
   "outputs": [],
   "source": [
    "import pandas as pd\n",
    "import os\n",
    "from tqdm import tqdm\n",
    "import statistics\n",
    "import seaborn as sns\n",
    "import matplotlib.pyplot as plt\n",
    "import multiprocessing"
   ]
  },
  {
   "cell_type": "code",
   "execution_count": 7,
   "id": "15397bb0-80f3-4709-bbbb-bea54702b33c",
   "metadata": {},
   "outputs": [
    {
     "name": "stdout",
     "output_type": "stream",
     "text": [
      "Loading: data/fibroblastCellLine.csv\n",
      "Row exception count: 0\n",
      "Column exception count: 0\n",
      "Endpoints exception count: 15\n"
     ]
    }
   ],
   "source": [
    "regulatory = createRegulatory(f'data/fibroblastCellLine.csv')\n",
    "globalAgingGenes = createEndpoints('global_aging_genes.tsv')"
   ]
  },
  {
   "cell_type": "code",
   "execution_count": 33,
   "id": "3ec0589d-745a-4ecf-a769-b85e55c99f3e",
   "metadata": {},
   "outputs": [],
   "source": [
    "endpoints = globalAgingGenes\n",
    "\n",
    "regMatrix = regulatory.to_numpy().tolist()\n",
    "nodes = list(set(list(regulatory.index) + regulatory.columns.tolist() + endpoints))\n",
    "g = Graph()\n",
    "g.set_directed(False)\n",
    "name_prop = g.new_vertex_property('string')\n",
    "vertexNameDic = {}\n",
    "for node in nodes:\n",
    "    v = g.add_vertex()\n",
    "    name_prop[v] = node\n",
    "    vertexNameDic[v] = node\n",
    "g.vertex_properties['name'] = name_prop\n",
    "nameVertexDic = {v: k for k, v in vertexNameDic.items()}"
   ]
  },
  {
   "cell_type": "code",
   "execution_count": 34,
   "id": "57718cf4-e967-4a4e-8ca4-77c9ccc1910b",
   "metadata": {},
   "outputs": [
    {
     "name": "stdout",
     "output_type": "stream",
     "text": [
      "EdgeCount: 19476492\n"
     ]
    }
   ],
   "source": [
    "edgeCount = 0\n",
    "g.ep.weight = g.new_edge_property(\"double\")\n",
    "for rowName, row in zip(regulatory.index, regMatrix):\n",
    "    for columnName, cell in zip(regulatory.columns.tolist(), row):\n",
    "        rowVertex = nameVertexDic[rowName]\n",
    "        columnVertex = nameVertexDic[columnName]\n",
    "        \n",
    "        edge = g.add_edge(rowVertex, columnVertex)\n",
    "        g.ep.weight[edge] = cell\n",
    "        edgeCount += 1\n",
    "\n",
    "print(f'EdgeCount: {edgeCount}')"
   ]
  },
  {
   "cell_type": "code",
   "execution_count": 29,
   "id": "ca0ee85b-290e-4257-8af5-956d597f6e94",
   "metadata": {},
   "outputs": [
    {
     "name": "stdout",
     "output_type": "stream",
     "text": [
      "20751\n",
      "7597\n"
     ]
    }
   ],
   "source": [
    "print(nameVertexDic['ENSG00000237190'])\n",
    "print(nameVertexDic['ENSG00000251154'])"
   ]
  },
  {
   "cell_type": "code",
   "execution_count": 28,
   "id": "4decbb25-b179-4a1f-82a2-a4d227ad0059",
   "metadata": {},
   "outputs": [
    {
     "data": {
      "text/plain": [
       "<Edge object with source '20751' and target '7597' at 0x360245cf0>"
      ]
     },
     "execution_count": 28,
     "metadata": {},
     "output_type": "execute_result"
    }
   ],
   "source": [
    "g.add_edge(nameVertexDic['ENSG00000237190'], nameVertexDic['ENSG00000251154'])"
   ]
  },
  {
   "cell_type": "code",
   "execution_count": 35,
   "id": "1f63f9f7-9950-432b-9cdc-d0afa2c38e12",
   "metadata": {},
   "outputs": [
    {
     "data": {
      "text/plain": [
       "([<Vertex object with index '20751' at 0x34b212ac0>,\n",
       "  <Vertex object with index '20013' at 0x34b212b40>,\n",
       "  <Vertex object with index '7597' at 0x3ce059040>],\n",
       " [<Edge object with source '20013' and target '20751' at 0x360245e10>,\n",
       "  <Edge object with source '7597' and target '20013' at 0x360245fc0>])"
      ]
     },
     "execution_count": 35,
     "metadata": {},
     "output_type": "execute_result"
    }
   ],
   "source": [
    "topology.shortest_path(g, nameVertexDic['ENSG00000237190'], nameVertexDic['ENSG00000251154'], weights=g.ep.weight)"
   ]
  },
  {
   "cell_type": "code",
   "execution_count": 37,
   "id": "5693118a-b487-4695-a1e5-a5127a7b77f6",
   "metadata": {},
   "outputs": [
    {
     "name": "stdout",
     "output_type": "stream",
     "text": [
      "ENSG00000237190\n",
      "ENSG00000084093\n",
      "ENSG00000251154\n"
     ]
    }
   ],
   "source": [
    "print(vertexNameDic[20751])\n",
    "print(vertexNameDic[20013])\n",
    "print(vertexNameDic[7597])"
   ]
  },
  {
   "cell_type": "code",
   "execution_count": null,
   "id": "e0aa3086-24c9-4eee-9db9-47205f90f20b",
   "metadata": {},
   "outputs": [],
   "source": []
  },
  {
   "cell_type": "code",
   "execution_count": 15,
   "id": "5f88ad51-b03b-437e-8c47-0e6c2dd3c351",
   "metadata": {},
   "outputs": [],
   "source": [
    "path = topology.shortest_path(g, nameVertexDic['ENSG00000141510'], nameVertexDic['ENSG00000100412'], weights=g.ep.weight)"
   ]
  },
  {
   "cell_type": "code",
   "execution_count": 16,
   "id": "738fdbd9-b542-4ec1-9356-8f6b27fb0865",
   "metadata": {},
   "outputs": [
    {
     "data": {
      "text/plain": [
       "[<Vertex object with index '6514' at 0x36025d840>,\n",
       " <Vertex object with index '2374' at 0x36025d340>,\n",
       " <Vertex object with index '29276' at 0x36025d8c0>,\n",
       " <Vertex object with index '22155' at 0x36012e640>]"
      ]
     },
     "execution_count": 16,
     "metadata": {},
     "output_type": "execute_result"
    }
   ],
   "source": [
    "path[0]"
   ]
  },
  {
   "cell_type": "code",
   "execution_count": 17,
   "id": "fed9799a-c604-4fff-82fb-2184ae5c2668",
   "metadata": {},
   "outputs": [
    {
     "data": {
      "text/plain": [
       "['ENSG00000141510', 'ENSG00000147421', 'ENSG00000141646', 'ENSG00000100412']"
      ]
     },
     "execution_count": 17,
     "metadata": {},
     "output_type": "execute_result"
    }
   ],
   "source": [
    "[vertexNameDic[node] for node in path[0]]"
   ]
  },
  {
   "cell_type": "code",
   "execution_count": null,
   "id": "67f8f7f0-2d68-4ab5-a7f4-d71cbf871ab1",
   "metadata": {},
   "outputs": [],
   "source": []
  },
  {
   "cell_type": "code",
   "execution_count": 8,
   "id": "9aeb5d9d-dc84-4110-9b6e-42c6bc3ec9fe",
   "metadata": {
    "scrolled": true
   },
   "outputs": [
    {
     "name": "stdout",
     "output_type": "stream",
     "text": [
      "Endpoints exception count: 15\n",
      "2025-03-29 23:31:44\n",
      "Loading: data/fibroblastCellLine.csv\n",
      "Row exception count: 0\n",
      "Column exception count: 0\n",
      "EdgeCount: 19476492\n",
      "0\n",
      "origin:11191 endpoint:17356 path:[<Vertex object with index '11191' at 0x376f896c0>, <Vertex object with index '15034' at 0x376f895c0>, <Vertex object with index '17356' at 0x376df1fc0>]\n",
      "origin:11191 endpoint:27669 path:[<Vertex object with index '11191' at 0x376f898c0>, <Vertex object with index '733' at 0x376f897c0>, <Vertex object with index '1974' at 0x376f89640>, <Vertex object with index '27669' at 0x376f36cc0>]\n",
      "origin:11191 endpoint:19115 path:[]\n",
      "origin:11191 endpoint:18047 path:[<Vertex object with index '11191' at 0x376f89940>, <Vertex object with index '2489' at 0x376f898c0>, <Vertex object with index '18047' at 0x376e07bc0>]\n",
      "origin:11191 endpoint:24428 path:[<Vertex object with index '11191' at 0x376f893c0>, <Vertex object with index '29625' at 0x376f892c0>, <Vertex object with index '24428' at 0x376ed0bc0>]\n",
      "origin:11191 endpoint:20770 path:[<Vertex object with index '11191' at 0x376f895c0>, <Vertex object with index '2489' at 0x376f89940>, <Vertex object with index '20770' at 0x376e5d840>]\n",
      "origin:11191 endpoint:22077 path:[<Vertex object with index '11191' at 0x376f89540>, <Vertex object with index '15673' at 0x376f893c0>, <Vertex object with index '22077' at 0x376e86ac0>]\n",
      "origin:11191 endpoint:17864 path:[<Vertex object with index '11191' at 0x376f895c0>, <Vertex object with index '17864' at 0x376e01fc0>]\n",
      "origin:11191 endpoint:19470 path:[<Vertex object with index '11191' at 0x376f89940>, <Vertex object with index '8979' at 0x376f89540>, <Vertex object with index '19470' at 0x376e34940>]\n",
      "origin:11191 endpoint:751 path:[<Vertex object with index '11191' at 0x376f89740>, <Vertex object with index '24789' at 0x376f898c0>, <Vertex object with index '13128' at 0x376f895c0>, <Vertex object with index '751' at 0x376be6fc0>]\n",
      "origin:11191 endpoint:18856 path:[<Vertex object with index '11191' at 0x376f897c0>, <Vertex object with index '19085' at 0x376f89940>, <Vertex object with index '18856' at 0x376e213c0>]\n",
      "origin:11191 endpoint:26162 path:[<Vertex object with index '11191' at 0x376f895c0>, <Vertex object with index '2489' at 0x376f89740>, <Vertex object with index '26162' at 0x376f07540>]\n",
      "origin:11191 endpoint:12925 path:[<Vertex object with index '11191' at 0x376f893c0>, <Vertex object with index '8047' at 0x376f898c0>, <Vertex object with index '24190' at 0x376f897c0>, <Vertex object with index '12925' at 0x376d666c0>]\n",
      "origin:11191 endpoint:23976 path:[<Vertex object with index '11191' at 0x376f89540>, <Vertex object with index '14568' at 0x376f895c0>, <Vertex object with index '23976' at 0x376ec27c0>]\n",
      "origin:11191 endpoint:24250 path:[<Vertex object with index '11191' at 0x376f89640>, <Vertex object with index '29985' at 0x376f89940>, <Vertex object with index '6237' at 0x376f893c0>, <Vertex object with index '24250' at 0x376ecb1c0>]\n",
      "origin:11191 endpoint:24681 path:[<Vertex object with index '11191' at 0x376f894c0>, <Vertex object with index '28582' at 0x376f89540>, <Vertex object with index '24681' at 0x376ed8b40>]\n",
      "origin:11191 endpoint:28715 path:[]\n",
      "origin:11191 endpoint:21324 path:[<Vertex object with index '11191' at 0x376f897c0>, <Vertex object with index '28582' at 0x376f894c0>, <Vertex object with index '21324' at 0x376e6ef40>]\n",
      "origin:11191 endpoint:12318 path:[<Vertex object with index '11191' at 0x376f89940>, <Vertex object with index '19085' at 0x376f89540>, <Vertex object with index '12318' at 0x376d534c0>]\n",
      "origin:11191 endpoint:29068 path:[<Vertex object with index '11191' at 0x376f895c0>, <Vertex object with index '19674' at 0x376f897c0>, <Vertex object with index '29068' at 0x376f62dc0>]\n",
      "origin:11191 endpoint:6295 path:[<Vertex object with index '11191' at 0x376f894c0>, <Vertex object with index '7283' at 0x376f89940>, <Vertex object with index '6295' at 0x376c959c0>]\n",
      "origin:11191 endpoint:18945 path:[<Vertex object with index '11191' at 0x376f892c0>, <Vertex object with index '23243' at 0x376f893c0>, <Vertex object with index '26867' at 0x376f895c0>, <Vertex object with index '18945' at 0x376e240c0>]\n",
      "origin:11191 endpoint:5408 path:[<Vertex object with index '11191' at 0x376f897c0>, <Vertex object with index '7283' at 0x376f894c0>, <Vertex object with index '5408' at 0x376c79ac0>]\n",
      "origin:11191 endpoint:4333 path:[<Vertex object with index '11191' at 0x376f89540>, <Vertex object with index '508' at 0x376f895c0>, <Vertex object with index '17302' at 0x376f892c0>, <Vertex object with index '4333' at 0x376c57cc0>]\n",
      "origin:11191 endpoint:10248 path:[<Vertex object with index '11191' at 0x376f893c0>, <Vertex object with index '18978' at 0x376f897c0>, <Vertex object with index '10248' at 0x376d121c0>]\n",
      "origin:11191 endpoint:23891 path:[<Vertex object with index '11191' at 0x376f89940>, <Vertex object with index '24166' at 0x376f892c0>, <Vertex object with index '3068' at 0x376f89540>, <Vertex object with index '23891' at 0x376ebfcc0>]\n",
      "origin:11191 endpoint:14527 path:[<Vertex object with index '11191' at 0x376f893c0>, <Vertex object with index '14527' at 0x376d98e40>]\n",
      "origin:11191 endpoint:6730 path:[<Vertex object with index '11191' at 0x376f894c0>, <Vertex object with index '26448' at 0x376f89540>, <Vertex object with index '10934' at 0x376f89940>, <Vertex object with index '6730' at 0x376ca34c0>]\n",
      "origin:11191 endpoint:7649 path:[<Vertex object with index '11191' at 0x376f897c0>, <Vertex object with index '18978' at 0x376f893c0>, <Vertex object with index '7649' at 0x376cc0440>]\n",
      "origin:11191 endpoint:30080 path:[<Vertex object with index '11191' at 0x376f89940>, <Vertex object with index '15673' at 0x376f894c0>, <Vertex object with index '30080' at 0x376f82bc0>]\n",
      "origin:11191 endpoint:12710 path:[<Vertex object with index '11191' at 0x376f89540>, <Vertex object with index '24423' at 0x376f897c0>, <Vertex object with index '12710' at 0x376d5fa40>]\n",
      "origin:11191 endpoint:28284 path:[<Vertex object with index '11191' at 0x376f895c0>, <Vertex object with index '20820' at 0x376f89940>, <Vertex object with index '28284' at 0x376f4a2c0>]\n",
      "origin:11191 endpoint:1471 path:[<Vertex object with index '11191' at 0x376f894c0>, <Vertex object with index '14568' at 0x376f89540>, <Vertex object with index '1471' at 0x376bfdac0>]\n",
      "origin:11191 endpoint:22391 path:[<Vertex object with index '11191' at 0x376f89640>, <Vertex object with index '23243' at 0x376f892c0>, <Vertex object with index '26867' at 0x376f895c0>, <Vertex object with index '22391' at 0x376e90940>]\n",
      "origin:11191 endpoint:13645 path:[<Vertex object with index '11191' at 0x376f89940>, <Vertex object with index '12269' at 0x376f894c0>, <Vertex object with index '13645' at 0x376d7d1c0>]\n",
      "origin:11191 endpoint:13983 path:[<Vertex object with index '11191' at 0x376f895c0>, <Vertex object with index '1200' at 0x376f89640>, <Vertex object with index '13983' at 0x376d87bc0>]\n",
      "origin:11191 endpoint:6716 path:[<Vertex object with index '11191' at 0x376f897c0>, <Vertex object with index '23243' at 0x376f892c0>, <Vertex object with index '26867' at 0x376f89940>, <Vertex object with index '6716' at 0x376ca2dc0>]\n",
      "origin:11191 endpoint:12807 path:[<Vertex object with index '11191' at 0x376f89740>, <Vertex object with index '17778' at 0x376f893c0>, <Vertex object with index '24020' at 0x376f895c0>, <Vertex object with index '12807' at 0x376d62b40>]\n",
      "origin:11191 endpoint:15198 path:[<Vertex object with index '11191' at 0x376f89840>, <Vertex object with index '8979' at 0x376f897c0>, <Vertex object with index '15198' at 0x376dae040>]\n",
      "origin:11191 endpoint:16528 path:[<Vertex object with index '11191' at 0x376f895c0>, <Vertex object with index '7921' at 0x376f89740>, <Vertex object with index '16528' at 0x376dd7e40>]\n",
      "origin:11191 endpoint:7366 path:[<Vertex object with index '11191' at 0x376f893c0>, <Vertex object with index '1200' at 0x376f89840>, <Vertex object with index '7366' at 0x376cb7540>]\n",
      "origin:11191 endpoint:19111 path:[<Vertex object with index '11191' at 0x376f89640>, <Vertex object with index '24423' at 0x376f894c0>, <Vertex object with index '7925' at 0x376f895c0>, <Vertex object with index '19111' at 0x376e29440>]\n",
      "origin:11191 endpoint:17978 path:[<Vertex object with index '11191' at 0x376f89740>, <Vertex object with index '20820' at 0x376f893c0>, <Vertex object with index '17978' at 0x376e05940>]\n",
      "origin:11191 endpoint:8093 path:[<Vertex object with index '11191' at 0x376f895c0>, <Vertex object with index '24423' at 0x376f89640>, <Vertex object with index '8093' at 0x376cce3c0>]\n",
      "origin:11191 endpoint:18707 path:[<Vertex object with index '11191' at 0x376f894c0>, <Vertex object with index '12269' at 0x376f89740>, <Vertex object with index '18707' at 0x376e1c8c0>]\n",
      "origin:11191 endpoint:20686 path:[<Vertex object with index '11191' at 0x376f897c0>, <Vertex object with index '28260' at 0x376f89940>, <Vertex object with index '512' at 0x376f895c0>, <Vertex object with index '20686' at 0x376e5adc0>]\n",
      "origin:11191 endpoint:19562 path:[<Vertex object with index '11191' at 0x376f89640>, <Vertex object with index '1200' at 0x376f894c0>, <Vertex object with index '19562' at 0x376e37740>]\n",
      "origin:11191 endpoint:3819 path:[<Vertex object with index '11191' at 0x376f892c0>, <Vertex object with index '13505' at 0x376f897c0>, <Vertex object with index '3819' at 0x376c479c0>]\n",
      "origin:11191 endpoint:17260 path:[<Vertex object with index '11191' at 0x376f895c0>, <Vertex object with index '29625' at 0x376f89640>, <Vertex object with index '17260' at 0x376deef40>]\n",
      "origin:11191 endpoint:2684 path:[<Vertex object with index '11191' at 0x376f892c0>, <Vertex object with index '2684' at 0x376c23dc0>]\n",
      "origin:11191 endpoint:21536 path:[<Vertex object with index '11191' at 0x376f898c0>, <Vertex object with index '13505' at 0x376f895c0>, <Vertex object with index '21536' at 0x376e75a40>]\n",
      "origin:11191 endpoint:12756 path:[]\n",
      "origin:11191 endpoint:4156 path:[<Vertex object with index '11191' at 0x376f89640>, <Vertex object with index '18509' at 0x376f898c0>, <Vertex object with index '4156' at 0x376c523c0>]\n",
      "origin:11191 endpoint:12410 path:[<Vertex object with index '11191' at 0x376f897c0>, <Vertex object with index '23217' at 0x376f895c0>, <Vertex object with index '12410' at 0x376d56340>]\n",
      "origin:11191 endpoint:13580 path:[<Vertex object with index '11191' at 0x376f89740>, <Vertex object with index '24423' at 0x376f89640>, <Vertex object with index '13580' at 0x376d7b0c0>]\n",
      "origin:11191 endpoint:22127 path:[<Vertex object with index '11191' at 0x376f892c0>, <Vertex object with index '7283' at 0x376f897c0>, <Vertex object with index '22127' at 0x376e88440>]\n",
      "origin:11191 endpoint:8 path:[<Vertex object with index '11191' at 0x376f89740>, <Vertex object with index '8' at 0x31a5bb8c0>]\n",
      "origin:11191 endpoint:29916 path:[<Vertex object with index '11191' at 0x376f895c0>, <Vertex object with index '6339' at 0x376f894c0>, <Vertex object with index '4694' at 0x376f892c0>, <Vertex object with index '29916' at 0x376f7d940>]\n",
      "origin:11191 endpoint:18528 path:[<Vertex object with index '11191' at 0x376f89840>, <Vertex object with index '26475' at 0x376f89640>, <Vertex object with index '29804' at 0x376f89740>, <Vertex object with index '18528' at 0x376e16e40>]\n",
      "origin:11191 endpoint:8478 path:[<Vertex object with index '11191' at 0x376f892c0>, <Vertex object with index '29634' at 0x376f895c0>, <Vertex object with index '8478' at 0x376cda5c0>]\n",
      "origin:11191 endpoint:20213 path:[<Vertex object with index '11191' at 0x376f897c0>, <Vertex object with index '6440' at 0x376f89840>, <Vertex object with index '20213' at 0x376e4bf40>]\n",
      "origin:11191 endpoint:6224 path:[<Vertex object with index '11191' at 0x376f893c0>, <Vertex object with index '8979' at 0x376f892c0>, <Vertex object with index '6224' at 0x376c935c0>]\n",
      "origin:11191 endpoint:1279 path:[<Vertex object with index '11191' at 0x376f89540>, <Vertex object with index '28830' at 0x376f895c0>, <Vertex object with index '16735' at 0x376f897c0>, <Vertex object with index '1279' at 0x376bf79c0>]\n",
      "origin:11191 endpoint:28568 path:[<Vertex object with index '11191' at 0x376f89740>, <Vertex object with index '27686' at 0x376f89940>, <Vertex object with index '25101' at 0x376f893c0>, <Vertex object with index '28568' at 0x376f531c0>]\n",
      "origin:11191 endpoint:10966 path:[<Vertex object with index '11191' at 0x376f898c0>, <Vertex object with index '23217' at 0x376f89540>, <Vertex object with index '10966' at 0x376d28bc0>]\n",
      "origin:11191 endpoint:27884 path:[<Vertex object with index '11191' at 0x376f892c0>, <Vertex object with index '19029' at 0x376f893c0>, <Vertex object with index '27159' at 0x376f89740>, <Vertex object with index '27884' at 0x376f3d940>]\n",
      "origin:11191 endpoint:18737 path:[<Vertex object with index '11191' at 0x376f897c0>, <Vertex object with index '13375' at 0x376f89940>, <Vertex object with index '21679' at 0x376f898c0>, <Vertex object with index '18737' at 0x376e1d7c0>]\n",
      "origin:11191 endpoint:27668 path:[<Vertex object with index '11191' at 0x376f89740>, <Vertex object with index '14568' at 0x376f892c0>, <Vertex object with index '27668' at 0x376f36c40>]\n",
      "origin:11191 endpoint:5769 path:[<Vertex object with index '11191' at 0x376f894c0>, <Vertex object with index '14568' at 0x376f897c0>, <Vertex object with index '5769' at 0x376c850c0>]\n",
      "origin:11191 endpoint:20059 path:[<Vertex object with index '11191' at 0x376f89840>, <Vertex object with index '13375' at 0x376f89540>, <Vertex object with index '11878' at 0x376f89740>, <Vertex object with index '20059' at 0x376e471c0>]\n",
      "origin:11191 endpoint:1440 path:[<Vertex object with index '11191' at 0x376f892c0>, <Vertex object with index '25039' at 0x376f894c0>, <Vertex object with index '1440' at 0x376bfcb40>]\n",
      "origin:11191 endpoint:18011 path:[<Vertex object with index '11191' at 0x376f89740>, <Vertex object with index '7283' at 0x376f89840>, <Vertex object with index '18011' at 0x376e069c0>]\n",
      "origin:11191 endpoint:23335 path:[]\n",
      "origin:11191 endpoint:1953 path:[]\n",
      "origin:11191 endpoint:21712 path:[<Vertex object with index '11191' at 0x376f89740>, <Vertex object with index '13632' at 0x376f89840>, <Vertex object with index '21712' at 0x376e7b2c0>]\n",
      "origin:11191 endpoint:28631 path:[<Vertex object with index '11191' at 0x376f89940>, <Vertex object with index '24789' at 0x376f894c0>, <Vertex object with index '13128' at 0x376f893c0>, <Vertex object with index '28631' at 0x376f551c0>]\n",
      "origin:11191 endpoint:12915 path:[<Vertex object with index '11191' at 0x376f89540>, <Vertex object with index '25068' at 0x376f89740>, <Vertex object with index '12915' at 0x376d661c0>]\n",
      "origin:11191 endpoint:6334 path:[<Vertex object with index '11191' at 0x376f893c0>, <Vertex object with index '25068' at 0x376f89940>, <Vertex object with index '6334' at 0x376c96d40>]\n",
      "origin:11191 endpoint:18617 path:[<Vertex object with index '11191' at 0x376f894c0>, <Vertex object with index '29625' at 0x376f89540>, <Vertex object with index '18617' at 0x376e19b40>]\n",
      "origin:11191 endpoint:15178 path:[<Vertex object with index '11191' at 0x376f892c0>, <Vertex object with index '7580' at 0x376f897c0>, <Vertex object with index '24661' at 0x376f893c0>, <Vertex object with index '15178' at 0x376dad640>]\n",
      "origin:11191 endpoint:15244 path:[<Vertex object with index '11191' at 0x376f89840>, <Vertex object with index '26104' at 0x376f89940>, <Vertex object with index '1495' at 0x376f894c0>, <Vertex object with index '15244' at 0x376daf740>]\n",
      "origin:11191 endpoint:10735 path:[<Vertex object with index '11191' at 0x376f898c0>, <Vertex object with index '21052' at 0x376f892c0>, <Vertex object with index '10735' at 0x376d21740>]\n",
      "origin:11191 endpoint:4187 path:[<Vertex object with index '11191' at 0x376f89740>, <Vertex object with index '14888' at 0x376f89840>, <Vertex object with index '4187' at 0x376c53340>]\n",
      "origin:11191 endpoint:29219 path:[<Vertex object with index '11191' at 0x376f89540>, <Vertex object with index '13817' at 0x376f898c0>, <Vertex object with index '29219' at 0x376f679c0>]\n",
      "origin:11191 endpoint:13364 path:[<Vertex object with index '11191' at 0x376f89640>, <Vertex object with index '10590' at 0x376f892c0>, <Vertex object with index '260' at 0x376f89740>, <Vertex object with index '13364' at 0x376d74440>]\n",
      "origin:11191 endpoint:17561 path:[<Vertex object with index '11191' at 0x376f894c0>, <Vertex object with index '12269' at 0x376f89540>, <Vertex object with index '17561' at 0x376df8740>]\n",
      "origin:11191 endpoint:20651 path:[<Vertex object with index '11191' at 0x376f89940>, <Vertex object with index '8979' at 0x376f89640>, <Vertex object with index '20651' at 0x376e59c40>]\n",
      "origin:11191 endpoint:30206 path:[<Vertex object with index '11191' at 0x376f89840>, <Vertex object with index '26448' at 0x376f894c0>, <Vertex object with index '30206' at 0x376f86b40>]\n",
      "origin:11191 endpoint:20952 path:[<Vertex object with index '11191' at 0x376f89540>, <Vertex object with index '7132' at 0x376f89940>, <Vertex object with index '20952' at 0x376e633c0>]\n",
      "origin:11191 endpoint:15517 path:[<Vertex object with index '11191' at 0x376f89740>, <Vertex object with index '13375' at 0x376f89840>, <Vertex object with index '15517' at 0x376db8140>]\n",
      "origin:11191 endpoint:6409 path:[<Vertex object with index '11191' at 0x376f89640>, <Vertex object with index '18459' at 0x376f89540>, <Vertex object with index '6409' at 0x376c99340>]\n",
      "origin:11191 endpoint:29222 path:[<Vertex object with index '11191' at 0x376f89940>, <Vertex object with index '29222' at 0x376f67b40>]\n",
      "origin:11191 endpoint:26641 path:[<Vertex object with index '11191' at 0x376f89740>, <Vertex object with index '8047' at 0x376f897c0>, <Vertex object with index '12660' at 0x376f89640>, <Vertex object with index '26641' at 0x376f166c0>]\n",
      "origin:11191 endpoint:21141 path:[<Vertex object with index '11191' at 0x376f89840>, <Vertex object with index '29510' at 0x376f89940>, <Vertex object with index '21141' at 0x376e69340>]\n",
      "origin:11191 endpoint:261 path:[<Vertex object with index '11191' at 0x376f89540>, <Vertex object with index '21873' at 0x376f89640>, <Vertex object with index '25194' at 0x376f89740>, <Vertex object with index '261' at 0x376bd78c0>]\n",
      "origin:11191 endpoint:7293 path:[<Vertex object with index '11191' at 0x376f897c0>, <Vertex object with index '29625' at 0x376f89840>, <Vertex object with index '7293' at 0x376cb50c0>]\n",
      "origin:11191 endpoint:18703 path:[<Vertex object with index '11191' at 0x376f89540>, <Vertex object with index '18703' at 0x376e1c6c0>]\n",
      "origin:11191 endpoint:26796 path:[<Vertex object with index '11191' at 0x376f897c0>, <Vertex object with index '26796' at 0x376f1b4c0>]\n",
      "origin:11191 endpoint:9263 path:[<Vertex object with index '11191' at 0x376f89740>, <Vertex object with index '27686' at 0x376f892c0>, <Vertex object with index '25101' at 0x376f89540>, <Vertex object with index '9263' at 0x376cf3140>]\n",
      "origin:11191 endpoint:22765 path:[<Vertex object with index '11191' at 0x376f89840>, <Vertex object with index '2489' at 0x376f897c0>, <Vertex object with index '22765' at 0x376e9c5c0>]\n",
      "origin:11191 endpoint:24776 path:[<Vertex object with index '11191' at 0x376f89540>, <Vertex object with index '19085' at 0x376f89740>, <Vertex object with index '24776' at 0x376edbac0>]\n",
      "origin:11191 endpoint:2985 path:[<Vertex object with index '11191' at 0x376f892c0>, <Vertex object with index '29634' at 0x376f89840>, <Vertex object with index '2985' at 0x376c2d5c0>]\n",
      "origin:11191 endpoint:30050 path:[<Vertex object with index '11191' at 0x376f89540>, <Vertex object with index '30050' at 0x376f81cc0>]\n",
      "origin:11191 endpoint:2546 path:[<Vertex object with index '11191' at 0x376f89740>, <Vertex object with index '15673' at 0x376f892c0>, <Vertex object with index '2546' at 0x376c1f840>]\n",
      "origin:11191 endpoint:3140 path:[<Vertex object with index '11191' at 0x376f893c0>, <Vertex object with index '13505' at 0x376f89540>, <Vertex object with index '3140' at 0x376c323c0>]\n",
      "origin:11191 endpoint:23847 path:[<Vertex object with index '11191' at 0x376f898c0>, <Vertex object with index '25068' at 0x376f89740>, <Vertex object with index '23847' at 0x376ebe6c0>]\n",
      "origin:11191 endpoint:8972 path:[<Vertex object with index '11191' at 0x376f897c0>, <Vertex object with index '26448' at 0x376f893c0>, <Vertex object with index '8972' at 0x376ce9ec0>]\n",
      "origin:11191 endpoint:526 path:[<Vertex object with index '11191' at 0x376f89940>, <Vertex object with index '262' at 0x376f89540>, <Vertex object with index '4002' at 0x376f898c0>, <Vertex object with index '526' at 0x376bdfe40>]\n",
      "origin:11191 endpoint:13889 path:[<Vertex object with index '11191' at 0x376f89640>, <Vertex object with index '12930' at 0x376f894c0>, <Vertex object with index '11981' at 0x376f897c0>, <Vertex object with index '13889' at 0x376d84cc0>]\n",
      "origin:11191 endpoint:6020 path:[<Vertex object with index '11191' at 0x376f895c0>, <Vertex object with index '8979' at 0x376f89940>, <Vertex object with index '6020' at 0x376c8cf40>]\n",
      "origin:11191 endpoint:22320 path:[<Vertex object with index '11191' at 0x376f893c0>, <Vertex object with index '3931' at 0x376f897c0>, <Vertex object with index '5837' at 0x376f89640>, <Vertex object with index '22320' at 0x376e8e540>]\n",
      "origin:11191 endpoint:14274 path:[<Vertex object with index '11191' at 0x376f894c0>, <Vertex object with index '15632' at 0x376f895c0>, <Vertex object with index '14274' at 0x376d90ec0>]\n",
      "origin:11191 endpoint:1959 path:[<Vertex object with index '11191' at 0x376f89640>, <Vertex object with index '6440' at 0x376f893c0>, <Vertex object with index '1959' at 0x376c0d0c0>]\n",
      "origin:11191 endpoint:3812 path:[<Vertex object with index '11191' at 0x376f89740>, <Vertex object with index '25584' at 0x376f894c0>, <Vertex object with index '3812' at 0x376c47640>]\n",
      "origin:11191 endpoint:28969 path:[<Vertex object with index '11191' at 0x376f89940>, <Vertex object with index '23596' at 0x376f89640>, <Vertex object with index '28969' at 0x376f5fbc0>]\n",
      "origin:11191 endpoint:28119 path:[<Vertex object with index '11191' at 0x376f89740>, <Vertex object with index '28119' at 0x376f44fc0>]\n",
      "origin:11191 endpoint:17885 path:[<Vertex object with index '11191' at 0x376f89840>, <Vertex object with index '26448' at 0x376f89940>, <Vertex object with index '17885' at 0x376e02a40>]\n",
      "origin:11191 endpoint:13204 path:[<Vertex object with index '11191' at 0x376f894c0>, <Vertex object with index '13375' at 0x376f89740>, <Vertex object with index '13204' at 0x376d6f340>]\n",
      "origin:11191 endpoint:23324 path:[<Vertex object with index '11191' at 0x376f893c0>, <Vertex object with index '11537' at 0x376f89840>, <Vertex object with index '23324' at 0x376eadf40>]\n",
      "origin:11191 endpoint:26634 path:[<Vertex object with index '11191' at 0x376f89940>, <Vertex object with index '11974' at 0x376f894c0>, <Vertex object with index '26634' at 0x376f16340>]\n",
      "origin:11191 endpoint:14414 path:[<Vertex object with index '11191' at 0x376f89640>, <Vertex object with index '26448' at 0x376f893c0>, <Vertex object with index '14414' at 0x376d95540>]\n",
      "origin:11191 endpoint:7909 path:[<Vertex object with index '11191' at 0x376f89940>, <Vertex object with index '7909' at 0x376cc8740>]\n",
      "origin:11191 endpoint:14089 path:[<Vertex object with index '11191' at 0x376f897c0>, <Vertex object with index '14568' at 0x376f89640>, <Vertex object with index '14089' at 0x376d8b140>]\n",
      "origin:11191 endpoint:24822 path:[<Vertex object with index '11191' at 0x376f894c0>, <Vertex object with index '23307' at 0x376f89940>, <Vertex object with index '24822' at 0x376edd240>]\n",
      "origin:11191 endpoint:21938 path:[<Vertex object with index '11191' at 0x376f89840>, <Vertex object with index '29625' at 0x376f897c0>, <Vertex object with index '21938' at 0x376e824c0>]\n",
      "origin:11191 endpoint:18726 path:[<Vertex object with index '11191' at 0x376f89640>, <Vertex object with index '13375' at 0x376f894c0>, <Vertex object with index '18726' at 0x376e1d240>]\n",
      "origin:11191 endpoint:2105 path:[<Vertex object with index '11191' at 0x376f893c0>, <Vertex object with index '29634' at 0x376f89840>, <Vertex object with index '2105' at 0x376c11a40>]\n",
      "origin:11191 endpoint:28381 path:[<Vertex object with index '11191' at 0x376f89540>, <Vertex object with index '6583' at 0x376f897c0>, <Vertex object with index '11353' at 0x376f89640>, <Vertex object with index '28381' at 0x376f4d3c0>]\n",
      "origin:11191 endpoint:17826 path:[<Vertex object with index '11191' at 0x376f895c0>, <Vertex object with index '21475' at 0x376f898c0>, <Vertex object with index '22509' at 0x376f893c0>, <Vertex object with index '17826' at 0x376e00cc0>]\n",
      "origin:11191 endpoint:27435 path:[<Vertex object with index '11191' at 0x376f892c0>, <Vertex object with index '24423' at 0x376f89540>, <Vertex object with index '27435' at 0x376f2f6c0>]\n",
      "origin:11191 endpoint:14968 path:[<Vertex object with index '11191' at 0x376f89840>, <Vertex object with index '6709' at 0x376f893c0>, <Vertex object with index '1905' at 0x376f895c0>, <Vertex object with index '14968' at 0x376da6c40>]\n",
      "origin:11191 endpoint:953 path:[<Vertex object with index '11191' at 0x376f898c0>, <Vertex object with index '17866' at 0x376f892c0>, <Vertex object with index '953' at 0x376bed5c0>]\n",
      "origin:11191 endpoint:28927 path:[<Vertex object with index '11191' at 0x376f89740>, <Vertex object with index '8207' at 0x376f89840>, <Vertex object with index '28927' at 0x376f5e6c0>]\n",
      "origin:11191 endpoint:17866 path:[<Vertex object with index '11191' at 0x376f898c0>, <Vertex object with index '17866' at 0x376e020c0>]\n",
      "origin:11191 endpoint:19952 path:[<Vertex object with index '11191' at 0x376f89740>, <Vertex object with index '23642' at 0x376f892c0>, <Vertex object with index '19952' at 0x376e43bc0>]\n",
      "origin:11191 endpoint:18539 path:[<Vertex object with index '11191' at 0x376f897c0>, <Vertex object with index '14568' at 0x376f898c0>, <Vertex object with index '18539' at 0x376e173c0>]\n",
      "origin:11191 endpoint:21690 path:[<Vertex object with index '11191' at 0x376f894c0>, <Vertex object with index '25718' at 0x376f89740>, <Vertex object with index '21690' at 0x376e7a7c0>]\n",
      "origin:11191 endpoint:26261 path:[<Vertex object with index '11191' at 0x376f89640>, <Vertex object with index '18459' at 0x376f897c0>, <Vertex object with index '26261' at 0x376f0a740>]\n",
      "origin:11191 endpoint:12145 path:[<Vertex object with index '11191' at 0x376f89840>, <Vertex object with index '27686' at 0x376f898c0>, <Vertex object with index '13534' at 0x376f894c0>, <Vertex object with index '12145' at 0x376d4ddc0>]\n",
      "origin:11191 endpoint:28028 path:[<Vertex object with index '11191' at 0x376f89640>, <Vertex object with index '28028' at 0x376f421c0>]\n",
      "origin:11191 endpoint:22279 path:[<Vertex object with index '11191' at 0x376f892c0>, <Vertex object with index '13375' at 0x376f89840>, <Vertex object with index '22279' at 0x376e8d0c0>]\n",
      "origin:11191 endpoint:30194 path:[<Vertex object with index '11191' at 0x376f89540>, <Vertex object with index '28617' at 0x376f894c0>, <Vertex object with index '7992' at 0x376f89640>, <Vertex object with index '30194' at 0x376f86540>]\n",
      "origin:11191 endpoint:11413 path:[<Vertex object with index '11191' at 0x376f892c0>, <Vertex object with index '11413' at 0x376d36cc0>]\n",
      "origin:11191 endpoint:28142 path:[<Vertex object with index '11191' at 0x376f89640>, <Vertex object with index '10590' at 0x376f89540>, <Vertex object with index '28142' at 0x376f45b40>]\n",
      "origin:11191 endpoint:2410 path:[<Vertex object with index '11191' at 0x376f89740>, <Vertex object with index '9033' at 0x376f89840>, <Vertex object with index '5095' at 0x376f892c0>, <Vertex object with index '2410' at 0x376c1b3c0>]\n",
      "origin:11191 endpoint:18517 path:[]\n",
      "origin:11191 endpoint:6485 path:[<Vertex object with index '11191' at 0x376f894c0>, <Vertex object with index '25039' at 0x376f89740>, <Vertex object with index '6485' at 0x376c9b940>]\n",
      "origin:11191 endpoint:20788 path:[<Vertex object with index '11191' at 0x376f89540>, <Vertex object with index '24423' at 0x376f89840>, <Vertex object with index '20788' at 0x376e5e140>]\n",
      "origin:11191 endpoint:6373 path:[<Vertex object with index '11191' at 0x376f897c0>, <Vertex object with index '12930' at 0x376f89640>, <Vertex object with index '11981' at 0x376f894c0>, <Vertex object with index '6373' at 0x376c98140>]\n",
      "origin:11191 endpoint:3365 path:[<Vertex object with index '11191' at 0x376f893c0>, <Vertex object with index '24166' at 0x376f898c0>, <Vertex object with index '15794' at 0x376f89540>, <Vertex object with index '3365' at 0x376c39540>]\n",
      "origin:11191 endpoint:24466 path:[<Vertex object with index '11191' at 0x376f89940>, <Vertex object with index '8979' at 0x376f897c0>, <Vertex object with index '24466' at 0x376ed1ec0>]\n",
      "origin:11191 endpoint:19787 path:[<Vertex object with index '11191' at 0x376f89840>, <Vertex object with index '6615' at 0x376f89540>, <Vertex object with index '12055' at 0x376f893c0>, <Vertex object with index '19787' at 0x376e3e8c0>]\n",
      "origin:11191 endpoint:20988 path:[<Vertex object with index '11191' at 0x376f894c0>, <Vertex object with index '6615' at 0x376f898c0>, <Vertex object with index '12055' at 0x376f89940>, <Vertex object with index '20988' at 0x376e64640>]\n",
      "origin:11191 endpoint:17245 path:[<Vertex object with index '11191' at 0x376f893c0>, <Vertex object with index '8979' at 0x376f89840>, <Vertex object with index '17245' at 0x376dee7c0>]\n",
      "origin:11191 endpoint:11953 path:[<Vertex object with index '11191' at 0x376f895c0>, <Vertex object with index '14888' at 0x376f894c0>, <Vertex object with index '11953' at 0x376d47cc0>]\n",
      "origin:11191 endpoint:6649 path:[<Vertex object with index '11191' at 0x376f897c0>, <Vertex object with index '26448' at 0x376f893c0>, <Vertex object with index '6649' at 0x376ca0c40>]\n",
      "origin:11191 endpoint:11380 path:[<Vertex object with index '11191' at 0x376f892c0>, <Vertex object with index '29375' at 0x376f89840>, <Vertex object with index '10730' at 0x376f895c0>, <Vertex object with index '11380' at 0x376d35c40>]\n",
      "origin:11191 endpoint:25569 path:[<Vertex object with index '11191' at 0x376f89640>, <Vertex object with index '29625' at 0x376f897c0>, <Vertex object with index '25569' at 0x376ef4ac0>]\n",
      "origin:11191 endpoint:14512 path:[<Vertex object with index '11191' at 0x376f898c0>, <Vertex object with index '25039' at 0x376f892c0>, <Vertex object with index '14512' at 0x376d986c0>]\n",
      "origin:11191 endpoint:4497 path:[<Vertex object with index '11191' at 0x376f894c0>, <Vertex object with index '10590' at 0x376f89640>, <Vertex object with index '4497' at 0x376c5cfc0>]\n",
      "origin:11191 endpoint:1644 path:[<Vertex object with index '11191' at 0x376f897c0>, <Vertex object with index '7283' at 0x376f898c0>, <Vertex object with index '1644' at 0x376c031c0>]\n",
      "origin:11191 endpoint:24016 path:[<Vertex object with index '11191' at 0x376f89540>, <Vertex object with index '23596' at 0x376f895c0>, <Vertex object with index '25994' at 0x376f894c0>, <Vertex object with index '24016' at 0x376ec3bc0>]\n",
      "origin:11191 endpoint:17890 path:[<Vertex object with index '11191' at 0x376f89640>, <Vertex object with index '13505' at 0x376f897c0>, <Vertex object with index '17890' at 0x376e02cc0>]\n",
      "origin:11191 endpoint:22282 path:[<Vertex object with index '11191' at 0x376f894c0>, <Vertex object with index '26448' at 0x376f89540>, <Vertex object with index '22282' at 0x376e8d240>]\n",
      "origin:11191 endpoint:11698 path:[<Vertex object with index '11191' at 0x376f892c0>, <Vertex object with index '10152' at 0x376f895c0>, <Vertex object with index '4862' at 0x376f89640>, <Vertex object with index '11698' at 0x376d3fc40>]\n",
      "origin:11191 endpoint:17104 path:[<Vertex object with index '11191' at 0x376f893c0>, <Vertex object with index '262' at 0x376f89840>, <Vertex object with index '4002' at 0x376f894c0>, <Vertex object with index '17104' at 0x376dea0c0>]\n",
      "origin:11191 endpoint:22161 path:[<Vertex object with index '11191' at 0x376f89940>, <Vertex object with index '15325' at 0x376f89740>, <Vertex object with index '4791' at 0x376f892c0>, <Vertex object with index '22161' at 0x376e89540>]\n",
      "origin:11191 endpoint:7584 path:[<Vertex object with index '11191' at 0x376f894c0>, <Vertex object with index '29625' at 0x376f893c0>, <Vertex object with index '7584' at 0x376cbe340>]\n",
      "origin:11191 endpoint:12931 path:[<Vertex object with index '11191' at 0x376f89940>, <Vertex object with index '12931' at 0x376d669c0>]\n",
      "origin:11191 endpoint:11204 path:[<Vertex object with index '11191' at 0x376f895c0>, <Vertex object with index '18782' at 0x376f894c0>, <Vertex object with index '11204' at 0x376d303c0>]\n",
      "origin:11191 endpoint:4830 path:[<Vertex object with index '11191' at 0x376f89740>, <Vertex object with index '15673' at 0x376f89940>, <Vertex object with index '4830' at 0x376c67740>]\n",
      "origin:11191 endpoint:29380 path:[<Vertex object with index '11191' at 0x376f89640>, <Vertex object with index '11974' at 0x376f895c0>, <Vertex object with index '29380' at 0x376f6cb40>]\n",
      "origin:11191 endpoint:11782 path:[<Vertex object with index '11191' at 0x376f894c0>, <Vertex object with index '8979' at 0x376f89740>, <Vertex object with index '11782' at 0x376d426c0>]\n",
      "origin:11191 endpoint:21750 path:[<Vertex object with index '11191' at 0x376f898c0>, <Vertex object with index '24166' at 0x376f893c0>, <Vertex object with index '3068' at 0x376f89640>, <Vertex object with index '21750' at 0x376e7c640>]\n",
      "origin:11191 endpoint:27819 path:[<Vertex object with index '11191' at 0x376f895c0>, <Vertex object with index '19674' at 0x376f894c0>, <Vertex object with index '27819' at 0x376f3b840>]\n",
      "origin:11191 endpoint:12163 path:[<Vertex object with index '11191' at 0x376f892c0>, <Vertex object with index '24423' at 0x376f898c0>, <Vertex object with index '12163' at 0x376d4e6c0>]\n",
      "origin:11191 endpoint:12330 path:[<Vertex object with index '11191' at 0x376f89640>, <Vertex object with index '10590' at 0x376f895c0>, <Vertex object with index '12330' at 0x376d53ac0>]\n",
      "origin:11191 endpoint:25749 path:[<Vertex object with index '11191' at 0x376f89840>, <Vertex object with index '29985' at 0x376f89940>, <Vertex object with index '6237' at 0x376f892c0>, <Vertex object with index '25749' at 0x376efa540>]\n",
      "origin:11191 endpoint:5314 path:[<Vertex object with index '11191' at 0x376f89540>, <Vertex object with index '12030' at 0x376f89640>, <Vertex object with index '5314' at 0x376c76b40>]\n",
      "origin:11191 endpoint:25716 path:[<Vertex object with index '11191' at 0x376f892c0>, <Vertex object with index '18459' at 0x376f89840>, <Vertex object with index '25716' at 0x376ef94c0>]\n",
      "origin:11191 endpoint:18145 path:[<Vertex object with index '11191' at 0x376f89940>, <Vertex object with index '19085' at 0x376f89540>, <Vertex object with index '18145' at 0x376e0ad40>]\n",
      "origin:11191 endpoint:24852 path:[<Vertex object with index '11191' at 0x376f893c0>, <Vertex object with index '28582' at 0x376f892c0>, <Vertex object with index '24852' at 0x376ede140>]\n",
      "origin:11191 endpoint:20822 path:[<Vertex object with index '11191' at 0x376f89840>, <Vertex object with index '26448' at 0x376f89940>, <Vertex object with index '20822' at 0x376e5f240>]\n",
      "origin:11191 endpoint:12139 path:[<Vertex object with index '11191' at 0x376f897c0>, <Vertex object with index '1200' at 0x376f893c0>, <Vertex object with index '12139' at 0x376d4dac0>]\n",
      "origin:11191 endpoint:1421 path:[<Vertex object with index '11191' at 0x376f892c0>, <Vertex object with index '1200' at 0x376f89840>, <Vertex object with index '1421' at 0x376bfc1c0>]\n",
      "origin:11191 endpoint:287 path:[<Vertex object with index '11191' at 0x376f895c0>, <Vertex object with index '14888' at 0x376f897c0>, <Vertex object with index '287' at 0x376bd8640>]\n",
      "origin:11191 endpoint:2678 path:[<Vertex object with index '11191' at 0x376f893c0>, <Vertex object with index '25068' at 0x376f892c0>, <Vertex object with index '2678' at 0x376c23ac0>]\n",
      "origin:11191 endpoint:12266 path:[<Vertex object with index '11191' at 0x376f898c0>, <Vertex object with index '20140' at 0x376f89640>, <Vertex object with index '21979' at 0x376f895c0>, <Vertex object with index '12266' at 0x376d51ac0>]\n",
      "origin:11191 endpoint:4865 path:[<Vertex object with index '11191' at 0x376f897c0>, <Vertex object with index '20820' at 0x376f893c0>, <Vertex object with index '4865' at 0x376c68940>]\n",
      "origin:11191 endpoint:858 path:[<Vertex object with index '11191' at 0x376f895c0>, <Vertex object with index '29625' at 0x376f898c0>, <Vertex object with index '858' at 0x376bea5c0>]\n",
      "origin:11191 endpoint:10553 path:[<Vertex object with index '11191' at 0x376f89640>, <Vertex object with index '7132' at 0x376f897c0>, <Vertex object with index '10553' at 0x376d1bb40>]\n",
      "origin:11191 endpoint:4853 path:[<Vertex object with index '11191' at 0x376f89540>, <Vertex object with index '17866' at 0x376f895c0>, <Vertex object with index '4853' at 0x376c68340>]\n",
      "origin:11191 endpoint:21610 path:[]\n",
      "origin:11191 endpoint:20273 path:[<Vertex object with index '11191' at 0x376f893c0>, <Vertex object with index '15034' at 0x376f89540>, <Vertex object with index '20273' at 0x376e4ddc0>]\n",
      "origin:11191 endpoint:20394 path:[<Vertex object with index '11191' at 0x376f89840>, <Vertex object with index '12210' at 0x376f897c0>, <Vertex object with index '14975' at 0x376f895c0>, <Vertex object with index '20394' at 0x376e51ac0>]\n",
      "origin:11191 endpoint:16841 path:[<Vertex object with index '11191' at 0x376f89940>, <Vertex object with index '26448' at 0x376f893c0>, <Vertex object with index '16841' at 0x376de1c40>]\n",
      "origin:11191 endpoint:9235 path:[<Vertex object with index '11191' at 0x376f892c0>, <Vertex object with index '27686' at 0x376f89640>, <Vertex object with index '25101' at 0x376f89840>, <Vertex object with index '9235' at 0x376cf2340>]\n",
      "origin:11191 endpoint:9410 path:[<Vertex object with index '11191' at 0x376f898c0>, <Vertex object with index '26448' at 0x376f894c0>, <Vertex object with index '17640' at 0x376f89940>, <Vertex object with index '9410' at 0x376cf7b40>]\n",
      "origin:11191 endpoint:12383 path:[<Vertex object with index '11191' at 0x376f892c0>, <Vertex object with index '12383' at 0x376d555c0>]\n",
      "origin:11191 endpoint:13378 path:[<Vertex object with index '11191' at 0x376f893c0>, <Vertex object with index '28714' at 0x376f89940>, <Vertex object with index '29139' at 0x376f898c0>, <Vertex object with index '13378' at 0x376d74b40>]\n",
      "origin:11191 endpoint:9341 path:[<Vertex object with index '11191' at 0x376f89640>, <Vertex object with index '28582' at 0x376f892c0>, <Vertex object with index '9341' at 0x376cf58c0>]\n",
      "origin:11191 endpoint:6133 path:[<Vertex object with index '11191' at 0x376f897c0>, <Vertex object with index '15325' at 0x376f898c0>, <Vertex object with index '17551' at 0x376f893c0>, <Vertex object with index '6133' at 0x376c90840>]\n",
      "origin:11191 endpoint:4867 path:[<Vertex object with index '11191' at 0x376f89940>, <Vertex object with index '13375' at 0x376f89640>, <Vertex object with index '4867' at 0x376c68a40>]\n",
      "origin:11191 endpoint:8068 path:[<Vertex object with index '11191' at 0x376f893c0>, <Vertex object with index '7921' at 0x376f897c0>, <Vertex object with index '8068' at 0x376ccd740>]\n",
      "origin:11191 endpoint:5529 path:[<Vertex object with index '11191' at 0x376f898c0>, <Vertex object with index '7921' at 0x376f89940>, <Vertex object with index '5529' at 0x376c7d7c0>]\n",
      "origin:11191 endpoint:14927 path:[<Vertex object with index '11191' at 0x376f89540>, <Vertex object with index '6583' at 0x376f89840>, <Vertex object with index '7989' at 0x376f893c0>, <Vertex object with index '14927' at 0x376da57c0>]\n",
      "origin:11191 endpoint:2194 path:[<Vertex object with index '11191' at 0x376f897c0>, <Vertex object with index '20820' at 0x376f898c0>, <Vertex object with index '2194' at 0x376c14740>]\n",
      "origin:11191 endpoint:12344 path:[<Vertex object with index '11191' at 0x376f893c0>, <Vertex object with index '15632' at 0x376f89540>, <Vertex object with index '12344' at 0x376d54240>]\n",
      "origin:11191 endpoint:15122 path:[<Vertex object with index '11191' at 0x376f89640>, <Vertex object with index '20479' at 0x376f89840>, <Vertex object with index '7218' at 0x376f897c0>, <Vertex object with index '15122' at 0x376dab9c0>]\n",
      "origin:11191 endpoint:7342 path:[<Vertex object with index '11191' at 0x376f895c0>, <Vertex object with index '8207' at 0x376f892c0>, <Vertex object with index '22875' at 0x376f893c0>, <Vertex object with index '7342' at 0x376cb6940>]\n",
      "origin:11191 endpoint:9472 path:[<Vertex object with index '11191' at 0x376f89740>, <Vertex object with index '14568' at 0x376f89640>, <Vertex object with index '9472' at 0x376cf9ac0>]\n",
      "origin:11191 endpoint:15059 path:[<Vertex object with index '11191' at 0x376f89540>, <Vertex object with index '25349' at 0x376f893c0>, <Vertex object with index '23543' at 0x376f895c0>, <Vertex object with index '15059' at 0x376da9a40>]\n",
      "origin:11191 endpoint:15716 path:[<Vertex object with index '11191' at 0x376f897c0>, <Vertex object with index '25354' at 0x376f892c0>, <Vertex object with index '21345' at 0x376f89740>, <Vertex object with index '15716' at 0x376dbe540>]\n",
      "origin:11191 endpoint:25221 path:[<Vertex object with index '11191' at 0x376f89840>, <Vertex object with index '27686' at 0x376f895c0>, <Vertex object with index '25101' at 0x376f89540>, <Vertex object with index '25221' at 0x376ee9b40>]\n",
      "origin:11191 endpoint:9105 path:[<Vertex object with index '11191' at 0x376f898c0>, <Vertex object with index '18459' at 0x376f897c0>, <Vertex object with index '9105' at 0x376cee1c0>]\n",
      "origin:11191 endpoint:20718 path:[<Vertex object with index '11191' at 0x376f893c0>, <Vertex object with index '24789' at 0x376f89540>, <Vertex object with index '13128' at 0x376f89840>, <Vertex object with index '20718' at 0x376e5bdc0>]\n",
      "origin:11191 endpoint:5241 path:[<Vertex object with index '11191' at 0x376f892c0>, <Vertex object with index '17866' at 0x376f898c0>, <Vertex object with index '5241' at 0x376c746c0>]\n",
      "origin:11191 endpoint:21645 path:[<Vertex object with index '11191' at 0x376f89740>, <Vertex object with index '12269' at 0x376f897c0>, <Vertex object with index '21645' at 0x376e79140>]\n",
      "origin:11191 endpoint:6905 path:[<Vertex object with index '11191' at 0x376f893c0>, <Vertex object with index '13375' at 0x376f89840>, <Vertex object with index '18175' at 0x376f892c0>, <Vertex object with index '6905' at 0x376ca8d40>]\n",
      "origin:11191 endpoint:23044 path:[<Vertex object with index '11191' at 0x376f89640>, <Vertex object with index '7283' at 0x376f89740>, <Vertex object with index '23044' at 0x376ea5240>]\n",
      "origin:11191 endpoint:6831 path:[<Vertex object with index '11191' at 0x376f892c0>, <Vertex object with index '8979' at 0x376f893c0>, <Vertex object with index '6831' at 0x376ca67c0>]\n",
      "origin:11191 endpoint:2049 path:[<Vertex object with index '11191' at 0x376f898c0>, <Vertex object with index '7744' at 0x376f89840>, <Vertex object with index '29773' at 0x376f89640>, <Vertex object with index '2049' at 0x376c0fdc0>]\n",
      "origin:11191 endpoint:24657 path:[<Vertex object with index '11191' at 0x376f892c0>, <Vertex object with index '24657' at 0x376ed7ec0>]\n",
      "origin:11191 endpoint:12353 path:[<Vertex object with index '11191' at 0x376f895c0>, <Vertex object with index '6339' at 0x376f897c0>, <Vertex object with index '2108' at 0x376f898c0>, <Vertex object with index '12353' at 0x376d546c0>]\n",
      "origin:11191 endpoint:27043 path:[<Vertex object with index '11191' at 0x376f89940>, <Vertex object with index '733' at 0x376f89640>, <Vertex object with index '26061' at 0x376f892c0>, <Vertex object with index '27043' at 0x376f23140>]\n",
      "origin:11191 endpoint:16980 path:[]\n",
      "origin:11191 endpoint:26093 path:[]\n",
      "origin:11191 endpoint:2944 path:[<Vertex object with index '11191' at 0x376f89940>, <Vertex object with index '26448' at 0x376f89640>, <Vertex object with index '2944' at 0x376c2c140>]\n",
      "origin:11191 endpoint:16662 path:[<Vertex object with index '11191' at 0x376f892c0>, <Vertex object with index '16662' at 0x376ddc240>]\n",
      "origin:11191 endpoint:16186 path:[<Vertex object with index '11191' at 0x376f895c0>, <Vertex object with index '25068' at 0x376f89940>, <Vertex object with index '16186' at 0x376dcd240>]\n",
      "origin:11191 endpoint:20827 path:[]\n",
      "origin:11191 endpoint:29817 path:[<Vertex object with index '11191' at 0x376f89640>, <Vertex object with index '1200' at 0x376f895c0>, <Vertex object with index '29817' at 0x376f7a740>]\n",
      "origin:11191 endpoint:15313 path:[<Vertex object with index '11191' at 0x376f89540>, <Vertex object with index '24423' at 0x376f89940>, <Vertex object with index '15313' at 0x376db1a40>]\n",
      "origin:11191 endpoint:22322 path:[<Vertex object with index '11191' at 0x376f894c0>, <Vertex object with index '10590' at 0x376f89640>, <Vertex object with index '22322' at 0x376e8e640>]\n",
      "origin:11191 endpoint:9577 path:[<Vertex object with index '11191' at 0x376f892c0>, <Vertex object with index '26448' at 0x376f89540>, <Vertex object with index '9577' at 0x376cfcfc0>]\n",
      "origin:11191 endpoint:14978 path:[<Vertex object with index '11191' at 0x376f89840>, <Vertex object with index '7580' at 0x376f89940>, <Vertex object with index '24661' at 0x376f894c0>, <Vertex object with index '14978' at 0x376da7140>]\n",
      "origin:11191 endpoint:19860 path:[<Vertex object with index '11191' at 0x376f893c0>, <Vertex object with index '28582' at 0x376f892c0>, <Vertex object with index '19860' at 0x376e40dc0>]\n",
      "origin:11191 endpoint:9101 path:[<Vertex object with index '11191' at 0x376f898c0>, <Vertex object with index '23697' at 0x376f895c0>, <Vertex object with index '26205' at 0x376f89840>, <Vertex object with index '9101' at 0x376cedfc0>]\n",
      "origin:11191 endpoint:15381 path:[<Vertex object with index '11191' at 0x376f89640>, <Vertex object with index '8047' at 0x376f897c0>, <Vertex object with index '12660' at 0x376f893c0>, <Vertex object with index '15381' at 0x376db3c40>]\n",
      "origin:11191 endpoint:1084 path:[<Vertex object with index '11191' at 0x376f894c0>, <Vertex object with index '24789' at 0x376f89740>, <Vertex object with index '13128' at 0x376f898c0>, <Vertex object with index '1084' at 0x376bf17c0>]\n",
      "origin:11191 endpoint:8906 path:[<Vertex object with index '11191' at 0x376f893c0>, <Vertex object with index '1200' at 0x376f89640>, <Vertex object with index '8906' at 0x376ce7d40>]\n",
      "origin:11191 endpoint:24282 path:[<Vertex object with index '11191' at 0x376f89840>, <Vertex object with index '20820' at 0x376f894c0>, <Vertex object with index '24282' at 0x376ecc240>]\n",
      "origin:11191 endpoint:10365 path:[<Vertex object with index '11191' at 0x376f895c0>, <Vertex object with index '25068' at 0x376f893c0>, <Vertex object with index '10365' at 0x376d15cc0>]\n",
      "origin:11191 endpoint:11903 path:[<Vertex object with index '11191' at 0x376f89540>, <Vertex object with index '8979' at 0x376f89640>, <Vertex object with index '20529' at 0x376f89840>, <Vertex object with index '11903' at 0x376d463c0>]\n",
      "origin:11191 endpoint:17807 path:[<Vertex object with index '11191' at 0x376f898c0>, <Vertex object with index '7283' at 0x376f895c0>, <Vertex object with index '17807' at 0x376e00340>]\n",
      "origin:11191 endpoint:29200 path:[<Vertex object with index '11191' at 0x376f89740>, <Vertex object with index '25039' at 0x376f89540>, <Vertex object with index '29200' at 0x376f67040>]\n",
      "origin:11191 endpoint:26602 path:[<Vertex object with index '11191' at 0x376f897c0>, <Vertex object with index '13375' at 0x376f894c0>, <Vertex object with index '10383' at 0x376f898c0>, <Vertex object with index '26602' at 0x376f15340>]\n",
      "origin:11191 endpoint:26965 path:[<Vertex object with index '11191' at 0x376f892c0>, <Vertex object with index '11772' at 0x376f895c0>, <Vertex object with index '23056' at 0x376f89740>, <Vertex object with index '26965' at 0x376f20a40>]\n",
      "origin:11191 endpoint:16669 path:[<Vertex object with index '11191' at 0x376f898c0>, <Vertex object with index '17866' at 0x376f897c0>, <Vertex object with index '16669' at 0x376ddc5c0>]\n",
      "origin:11191 endpoint:8865 path:[<Vertex object with index '11191' at 0x376f89940>, <Vertex object with index '27686' at 0x376f893c0>, <Vertex object with index '25101' at 0x376f892c0>, <Vertex object with index '8865' at 0x376ce68c0>]\n",
      "origin:11191 endpoint:27197 path:[<Vertex object with index '11191' at 0x376f89640>, <Vertex object with index '18459' at 0x376f898c0>, <Vertex object with index '27197' at 0x376f27ec0>]\n",
      "origin:11191 endpoint:17277 path:[<Vertex object with index '11191' at 0x376f89740>, <Vertex object with index '26448' at 0x376f894c0>, <Vertex object with index '12653' at 0x376f89940>, <Vertex object with index '17277' at 0x376def7c0>]\n",
      "origin:11191 endpoint:16172 path:[<Vertex object with index '11191' at 0x376f895c0>, <Vertex object with index '13817' at 0x376f89640>, <Vertex object with index '16172' at 0x376dccb40>]\n"
     ]
    }
   ],
   "source": [
    "# multi-dataset aging gene enrichment\n",
    "globalAgingGenes = createEndpoints('global_aging_genes.tsv')\n",
    "agingCount = connectionEnrichment(['ENSG00000141510'], globalAgingGenes)"
   ]
  },
  {
   "cell_type": "code",
   "execution_count": 10,
   "id": "f30ad9c9-9e0a-4338-a5fe-a54d8edf4114",
   "metadata": {
    "scrolled": true
   },
   "outputs": [
    {
     "name": "stdout",
     "output_type": "stream",
     "text": [
      "Size: 163\n",
      "Average: 1\n",
      "Median: 1\n",
      "{'ENSG00000130816': 1, 'ENSG00000117154': 1, 'ENSG00000065978': 1, 'ENSG00000235174': 1, 'ENSG00000148737': 1, 'ENSG00000138083': 1, 'ENSG00000213296': 1, 'ENSG00000136826': 1, 'ENSG00000187079': 1, 'ENSG00000156170': 1, 'ENSG00000148704': 1, 'ENSG00000272843': 1, 'ENSG00000261678': 1, 'ENSG00000271270': 1, 'ENSG00000124092': 1, 'ENSG00000124713': 1, 'ENSG00000129194': 1, 'ENSG00000187097': 1, 'ENSG00000170370': 1, 'ENSG00000100105': 1, 'ENSG00000123240': 1, 'ENSG00000102974': 1, 'ENSG00000272021': 1, 'ENSG00000101096': 1, 'ENSG00000134046': 1, 'ENSG00000188171': 1, 'ENSG00000175879': 1, 'ENSG00000123405': 1, 'ENSG00000031544': 1, 'ENSG00000125967': 1, 'ENSG00000107807': 1, 'ENSG00000164853': 1, 'ENSG00000178951': 1, 'ENSG00000187054': 1, 'ENSG00000126804': 1, 'ENSG00000110851': 1, 'ENSG00000228153': 1, 'ENSG00000135638': 1, 'ENSG00000144485': 1, 'ENSG00000106038': 1, 'ENSG00000134954': 1, 'ENSG00000138031': 1, 'ENSG00000184481': 1, 'ENSG00000118260': 1, 'ENSG00000091831': 1, 'ENSG00000146755': 1, 'ENSG00000179922': 1, 'ENSG00000153879': 1, 'ENSG00000166197': 1, 'ENSG00000128710': 1, 'ENSG00000110799': 1, 'ENSG00000001167': 1, 'ENSG00000184937': 1, 'ENSG00000162599': 1, 'ENSG00000249317': 1, 'ENSG00000256683': 1, 'ENSG00000247934': 1, 'ENSG00000112033': 1, 'ENSG00000106261': 1, 'ENSG00000111911': 1, 'ENSG00000152977': 1, 'ENSG00000205133': 1, 'ENSG00000006194': 1, 'ENSG00000082641': 1, 'ENSG00000156502': 1, 'ENSG00000100968': 1, 'ENSG00000138617': 1, 'ENSG00000163623': 1, 'ENSG00000229027': 1, 'ENSG00000188215': 1, 'ENSG00000228862': 1, 'ENSG00000171223': 1, 'ENSG00000124827': 1, 'ENSG00000175518': 1, 'ENSG00000168214': 1, 'ENSG00000249642': 1, 'ENSG00000120798': 1, 'ENSG00000141026': 1, 'ENSG00000113916': 1, 'ENSG00000114861': 1, 'ENSG00000167967': 1, 'ENSG00000138071': 1, 'ENSG00000273174': 1, 'ENSG00000054598': 1, 'ENSG00000143867': 1, 'ENSG00000232451': 1, 'ENSG00000111424': 1, 'ENSG00000232517': 1, 'ENSG00000269603': 1, 'ENSG00000228318': 1, 'ENSG00000163497': 1, 'ENSG00000233369': 1, 'ENSG00000197579': 1, 'ENSG00000196482': 1, 'ENSG00000137203': 1, 'ENSG00000124813': 1, 'ENSG00000170265': 1, 'ENSG00000112658': 1, 'ENSG00000100811': 1, 'ENSG00000006468': 1, 'ENSG00000258893': 1, 'ENSG00000101076': 1, 'ENSG00000226017': 1, 'ENSG00000137265': 1, 'ENSG00000267325': 1, 'ENSG00000160961': 1, 'ENSG00000131668': 1, 'ENSG00000136367': 1, 'ENSG00000131931': 1, 'ENSG00000136574': 1, 'ENSG00000139651': 1, 'ENSG00000175329': 1, 'ENSG00000174628': 1, 'ENSG00000124782': 1, 'ENSG00000187553': 1, 'ENSG00000160199': 1, 'ENSG00000171241': 1, 'ENSG00000171786': 1, 'ENSG00000185610': 1, 'ENSG00000105419': 1, 'ENSG00000138135': 1, 'ENSG00000128604': 1, 'ENSG00000163795': 1, 'ENSG00000162924': 1, 'ENSG00000180532': 1, 'ENSG00000172818': 1, 'ENSG00000177463': 1, 'ENSG00000267421': 1, 'ENSG00000071564': 1, 'ENSG00000092067': 1, 'ENSG00000196628': 1, 'ENSG00000139998': 1, 'ENSG00000163666': 1, 'ENSG00000152192': 1, 'ENSG00000175325': 1, 'ENSG00000189298': 1, 'ENSG00000170581': 1, 'ENSG00000169840': 1, 'ENSG00000179388': 1, 'ENSG00000214026': 1, 'ENSG00000117036': 1, 'ENSG00000114853': 1, 'ENSG00000103148': 1, 'ENSG00000106689': 1, 'ENSG00000267344': 1, 'ENSG00000147421': 1, 'ENSG00000135457': 1, 'ENSG00000172216': 1, 'ENSG00000170561': 1, 'ENSG00000112695': 1, 'ENSG00000008441': 1, 'ENSG00000137273': 1, 'ENSG00000230971': 1, 'ENSG00000164107': 1, 'ENSG00000106031': 1, 'ENSG00000153923': 1, 'ENSG00000174963': 1, 'ENSG00000215397': 1, 'ENSG00000118707': 1, 'ENSG00000185697': 1, 'ENSG00000106410': 1, 'ENSG00000167895': 1, 'ENSG00000115966': 1}\n"
     ]
    }
   ],
   "source": [
    "## printing results\n",
    "printResultsWithStats(sortDic(agingCount))"
   ]
  },
  {
   "cell_type": "code",
   "execution_count": null,
   "id": "07781301-7d7e-469c-a660-aacc82b80270",
   "metadata": {},
   "outputs": [],
   "source": []
  },
  {
   "cell_type": "code",
   "execution_count": null,
   "id": "7a5f7f01-9137-4e7b-8265-e74c54a29679",
   "metadata": {
    "scrolled": true
   },
   "outputs": [],
   "source": [
    "# control experiment 1\n",
    "datasets = os.listdir('data')\n",
    "datasets.remove('.DS_Store')\n",
    "regulatory = createRegulatory(f'data/{datasets[0]}')\n",
    "globalAgingGenes = createEndpoints('global_aging_genes.tsv')\n",
    "randomGenes = createRandomEndpoints(regulatory, len(globalAgingGenes), 42)\n",
    "controlCount1 = connectionEnrichment(randomGenes, randomGenes)"
   ]
  },
  {
   "cell_type": "code",
   "execution_count": null,
   "id": "a691014a-7e2c-4b4d-b5ce-79b0b46f194d",
   "metadata": {
    "scrolled": true
   },
   "outputs": [],
   "source": [
    "# printing results\n",
    "printResultsWithStats(sortDic(controlCount1))"
   ]
  },
  {
   "cell_type": "code",
   "execution_count": null,
   "id": "7efa8067-00d4-40a4-ba7a-1c739136623b",
   "metadata": {},
   "outputs": [],
   "source": []
  },
  {
   "cell_type": "code",
   "execution_count": null,
   "id": "ded410a5-d454-49df-b1af-9a31bc8329c2",
   "metadata": {
    "scrolled": true
   },
   "outputs": [],
   "source": [
    "# control experiment 2\n",
    "datasets = os.listdir('data')\n",
    "datasets.remove('.DS_Store')\n",
    "regulatory = createRegulatory(f'data/{datasets[0]}')\n",
    "globalAgingGenes = createEndpoints('global_aging_genes.tsv')\n",
    "randomGenes = createRandomEndpoints(regulatory, len(globalAgingGenes), 43)\n",
    "controlCount2 = connectionEnrichment(randomGenes, randomGenes)"
   ]
  },
  {
   "cell_type": "code",
   "execution_count": null,
   "id": "e2e852bd-3c93-4db5-bcf3-02ecdab81b01",
   "metadata": {
    "scrolled": true
   },
   "outputs": [],
   "source": [
    "# printing results\n",
    "printResultsWithStats(sortDic(controlCount2))"
   ]
  },
  {
   "cell_type": "code",
   "execution_count": null,
   "id": "ddbd56f5-3749-4c26-984d-ccdf542e9af1",
   "metadata": {},
   "outputs": [],
   "source": []
  },
  {
   "cell_type": "code",
   "execution_count": null,
   "id": "4c7227d2-6290-4fe6-874e-133a4d948c9a",
   "metadata": {
    "scrolled": true
   },
   "outputs": [],
   "source": [
    "# control experiment 3\n",
    "datasets = os.listdir('data')\n",
    "datasets.remove('.DS_Store')\n",
    "regulatory = createRegulatory(f'data/{datasets[0]}')\n",
    "globalAgingGenes = createEndpoints('global_aging_genes.tsv')\n",
    "randomGenes = createRandomEndpoints(regulatory, len(globalAgingGenes), 44)\n",
    "controlCount3 = connectionEnrichment(randomGenes, randomGenes)"
   ]
  },
  {
   "cell_type": "code",
   "execution_count": null,
   "id": "b4b7d718-b355-4866-b3ab-f62c752fa901",
   "metadata": {
    "scrolled": true
   },
   "outputs": [],
   "source": [
    "# printing results\n",
    "printResultsWithStats(sortDic(controlCount3))"
   ]
  },
  {
   "cell_type": "code",
   "execution_count": null,
   "id": "301923b0-4f5e-45f0-8b3e-54893daec460",
   "metadata": {},
   "outputs": [],
   "source": []
  },
  {
   "cell_type": "code",
   "execution_count": null,
   "id": "3336e945-b484-4e8f-b594-e74860e91c5e",
   "metadata": {},
   "outputs": [],
   "source": [
    "# creating graph\n",
    "agingVal = list(agingCount.values())\n",
    "controlVal1 = list(controlCount1.values())\n",
    "controlVal2 = list(controlCount2.values())\n",
    "controlVal3 = list(controlCount3.values())\n",
    "agingName = ['aging' for i in range(len(agingVal))]\n",
    "controlName1 = ['control1' for i in range(len(controlVal1))]\n",
    "controlName2 = ['control2' for i in range(len(controlVal2))]\n",
    "controlName3 = ['control3' for i in range(len(controlVal3))]\n",
    "\n",
    "counts = agingVal + controlVal1 + controlVal2 + controlVal3\n",
    "names = agingName + controlName1 + controlName2 + controlName3\n",
    "\n",
    "df = pd.DataFrame({'counts': counts, 'names': names})\n",
    "\n",
    "sns.set_theme(style=\"ticks\")\n",
    "\n",
    "f, ax = plt.subplots(figsize=(7, 5))\n",
    "sns.despine(f)\n",
    "\n",
    "sns.histplot(\n",
    "    df,\n",
    "    x=\"counts\", hue=\"names\",\n",
    "    multiple=\"dodge\",\n",
    "    palette=\"light:m_r\",\n",
    "    edgecolor=\".3\",\n",
    "    linewidth=.5,\n",
    "    bins = 16,\n",
    ")\n",
    "\n",
    "plt.yscale('log')\n",
    "plt.xlabel(\"Number of overlaps\")"
   ]
  },
  {
   "cell_type": "code",
   "execution_count": null,
   "id": "b3f564e2-3f03-416e-86ef-ed13280d75cd",
   "metadata": {},
   "outputs": [],
   "source": []
  },
  {
   "cell_type": "code",
   "execution_count": null,
   "id": "aed4cf12-2708-47f5-bcf8-9852cc31cb10",
   "metadata": {},
   "outputs": [],
   "source": [
    "for name1, dataset1 in zip(['aging', 'control1', 'control2', 'control3'], [agingCount, controlCount1, controlCount2, controlCount3]):\n",
    "    print(f'Origin: {name1}')\n",
    "    for name2, dataset2 in zip(['aging', 'control1', 'control2', 'control3'], [agingCount, controlCount1, controlCount2, controlCount3]):\n",
    "        print(f'Endpoint: {name2}')\n",
    "        intersection = set(dataset1).intersection(set(dataset2))\n",
    "        sideTotal2 = sum([dataset2[i] for i in intersection])\n",
    "        print(f'{len(intersection)} // {sideTotal2} // {int(sideTotal2 / len(intersection))}')"
   ]
  },
  {
   "cell_type": "code",
   "execution_count": null,
   "id": "7c96a59f-c4a9-48c7-be8b-d4878324e591",
   "metadata": {},
   "outputs": [],
   "source": []
  },
  {
   "cell_type": "code",
   "execution_count": null,
   "id": "5e9d74c4-cbe5-45b2-9562-d92622bfabb4",
   "metadata": {},
   "outputs": [],
   "source": [
    "genageDF = pd.read_csv(\"genage_human.csv\")\n",
    "genageList = list(genageDF['symbol'])\n",
    "genageENSGList = [geneName_geneId[name] for name in genageList]"
   ]
  },
  {
   "cell_type": "code",
   "execution_count": null,
   "id": "738e74ca-e9c8-4b74-910b-11c1a1e9856e",
   "metadata": {},
   "outputs": [],
   "source": [
    "# experiment\n",
    "filteredAgingCount = {k:v for k,v in agingCount.items() if k in genageENSGList}"
   ]
  },
  {
   "cell_type": "code",
   "execution_count": null,
   "id": "087421d7-f3da-48a5-bfbc-947f8a5c582f",
   "metadata": {
    "scrolled": true
   },
   "outputs": [],
   "source": [
    "printResultsWithStats(sortDic(filteredAgingCount))"
   ]
  },
  {
   "cell_type": "code",
   "execution_count": null,
   "id": "2de1c835-7ed6-40ad-8ece-999cd839ddd2",
   "metadata": {},
   "outputs": [],
   "source": []
  },
  {
   "cell_type": "code",
   "execution_count": null,
   "id": "c5dd1923-031d-4495-ab00-a098e0b2e2f2",
   "metadata": {},
   "outputs": [],
   "source": [
    "# control 1\n",
    "filteredControlCount1 = {k:v for k,v in controlCount1.items() if k in genageENSGList}"
   ]
  },
  {
   "cell_type": "code",
   "execution_count": null,
   "id": "8a9bc3d6-e1de-47e9-a9c0-d94f659d5ce6",
   "metadata": {
    "scrolled": true
   },
   "outputs": [],
   "source": [
    "printResultsWithStats(sortDic(filteredControlCount1))"
   ]
  },
  {
   "cell_type": "code",
   "execution_count": null,
   "id": "73f5b3ad-1661-43b3-80d7-6bbaaeae97fc",
   "metadata": {},
   "outputs": [],
   "source": []
  },
  {
   "cell_type": "code",
   "execution_count": null,
   "id": "59727dc3-e1b9-496b-aafe-e2912e98e792",
   "metadata": {},
   "outputs": [],
   "source": [
    "# control 1\n",
    "filteredControlCount2 = {k:v for k,v in controlCount2.items() if k in genageENSGList}"
   ]
  },
  {
   "cell_type": "code",
   "execution_count": null,
   "id": "51a4219a-53d0-4a5a-93b8-8df1f0dd27cb",
   "metadata": {
    "scrolled": true
   },
   "outputs": [],
   "source": [
    "printResultsWithStats(sortDic(filteredControlCount2))"
   ]
  },
  {
   "cell_type": "code",
   "execution_count": null,
   "id": "b0f78734-5855-4748-9f88-78a71658c70f",
   "metadata": {},
   "outputs": [],
   "source": []
  },
  {
   "cell_type": "code",
   "execution_count": null,
   "id": "f5e0df54-0243-43c9-8d2b-e130a5a3b321",
   "metadata": {},
   "outputs": [],
   "source": [
    "# control 1\n",
    "filteredControlCount3 = {k:v for k,v in controlCount3.items() if k in genageENSGList}"
   ]
  },
  {
   "cell_type": "code",
   "execution_count": null,
   "id": "a918e5d3-ef5d-441d-926d-55d389d7c6df",
   "metadata": {
    "scrolled": true
   },
   "outputs": [],
   "source": [
    "printResultsWithStats(sortDic(filteredControlCount3))"
   ]
  },
  {
   "cell_type": "code",
   "execution_count": null,
   "id": "ffa71452-e279-4fb6-b2d7-9db97e972989",
   "metadata": {},
   "outputs": [],
   "source": []
  },
  {
   "cell_type": "code",
   "execution_count": null,
   "id": "ea37bb00-0b7d-48ad-9aa0-8ccf9529db71",
   "metadata": {},
   "outputs": [],
   "source": [
    "# creating graph\n",
    "agingVal = list(filteredAgingCount.values())\n",
    "controlVal1 = list(filteredControlCount1.values())\n",
    "controlVal2 = list(filteredControlCount2.values())\n",
    "controlVal3 = list(filteredControlCount3.values())\n",
    "agingName = ['aging' for i in range(len(agingVal))]\n",
    "controlName1 = ['control1' for i in range(len(controlVal1))]\n",
    "controlName2 = ['control2' for i in range(len(controlVal2))]\n",
    "controlName3 = ['control3' for i in range(len(controlVal3))]\n",
    "\n",
    "counts = agingVal + controlVal1 + controlVal2 + controlVal3\n",
    "names = agingName + controlName1 + controlName2 + controlName3\n",
    "\n",
    "df = pd.DataFrame({'counts': counts, 'names': names})\n",
    "\n",
    "sns.set_theme(style=\"ticks\")\n",
    "\n",
    "f, ax = plt.subplots(figsize=(7, 5))\n",
    "sns.despine(f)\n",
    "\n",
    "sns.histplot(\n",
    "    df,\n",
    "    x=\"counts\", hue=\"names\",\n",
    "    multiple=\"dodge\",\n",
    "    palette=\"light:m_r\",\n",
    "    edgecolor=\".3\",\n",
    "    linewidth=.5,\n",
    "    bins = 16,\n",
    ")\n",
    "\n",
    "plt.yscale('log')\n",
    "plt.xlabel(\"Number of overlaps between central genes and GenAge\")"
   ]
  },
  {
   "cell_type": "code",
   "execution_count": null,
   "id": "ea72e254-a66e-471a-86eb-8daaa872f97b",
   "metadata": {},
   "outputs": [],
   "source": []
  }
 ],
 "metadata": {
  "kernelspec": {
   "display_name": "Python 3 (ipykernel)",
   "language": "python",
   "name": "python3"
  },
  "language_info": {
   "codemirror_mode": {
    "name": "ipython",
    "version": 3
   },
   "file_extension": ".py",
   "mimetype": "text/x-python",
   "name": "python",
   "nbconvert_exporter": "python",
   "pygments_lexer": "ipython3",
   "version": "3.12.2"
  }
 },
 "nbformat": 4,
 "nbformat_minor": 5
}
